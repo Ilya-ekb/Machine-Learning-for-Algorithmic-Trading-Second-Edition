{
 "cells": [
  {
   "cell_type": "markdown",
   "metadata": {},
   "source": [
    "# Работа с получением данных из сервиса EDGAR SEC"
   ]
  },
  {
   "cell_type": "code",
   "execution_count": 1,
   "metadata": {},
   "outputs": [],
   "source": [
    "import warnings\n",
    "warnings.filterwarnings('ignore')"
   ]
  },
  {
   "cell_type": "code",
   "execution_count": 1,
   "metadata": {},
   "outputs": [],
   "source": [
    "%matplotlib inline\n",
    "\n",
    "from pathlib import Path\n",
    "from datetime import date\n",
    "import json\n",
    "from io import BytesIO\n",
    "from zipfile import ZipFile, BadZipFile\n",
    "import requests\n",
    "import os\n",
    "\n",
    "import pandas_datareader.data as web\n",
    "import pandas as pd\n",
    "\n",
    "from pprint import pprint\n",
    "\n",
    "import seaborn as sns\n",
    "import matplotlib.pyplot as plt\n",
    "import matplotlib.ticker as mticker"
   ]
  },
  {
   "cell_type": "code",
   "execution_count": 2,
   "metadata": {},
   "outputs": [],
   "source": [
    "sns.set_style('whitegrid')"
   ]
  },
  {
   "cell_type": "code",
   "execution_count": 3,
   "metadata": {},
   "outputs": [],
   "source": [
    "data_path = Path('data') # perhaps set to external harddrive to accomodate large amount of data\n",
    "if not data_path.exists():\n",
    "    data_path.mkdir()"
   ]
  },
  {
   "cell_type": "markdown",
   "metadata": {},
   "source": [
    "## Загрузка финасовых документов и заметок "
   ]
  },
  {
   "cell_type": "markdown",
   "metadata": {},
   "source": [
    "Данные с сайта [Financial Statement and Notes](https://www.sec.gov/dera/data/financial-statement-and-notes-data-set.html)"
   ]
  },
  {
   "cell_type": "code",
   "execution_count": 4,
   "metadata": {},
   "outputs": [],
   "source": [
    "SEC_URL = 'https://www.sec.gov/'\n",
    "FSN_PATH = 'files/dera/data/financial-statement-and-notes-data-sets/'\n",
    "start_year = 2015"
   ]
  },
  {
   "cell_type": "code",
   "execution_count": 5,
   "metadata": {},
   "outputs": [],
   "source": [
    "today = pd.Timestamp(date.today())\n",
    "this_year = today.year\n",
    "this_quarter = today.quarter\n",
    "past_years = range(start_year, this_year)"
   ]
  },
  {
   "cell_type": "code",
   "execution_count": 6,
   "metadata": {},
   "outputs": [],
   "source": [
    "filing_periods  = [(y, q)for y in past_years for q in range(1, 5)]\n",
    "filing_periods.extend([this_year, q] for q in range(1, this_quarter+1))"
   ]
  },
  {
   "cell_type": "code",
   "execution_count": 54,
   "metadata": {},
   "outputs": [
    {
     "name": "stdout",
     "output_type": "stream",
     "text": [
      "2015-Q1 \n",
      "2015-Q2 \n",
      "2015-Q3 \n",
      "2015-Q4 \n",
      "2016-Q1 \n",
      "2016-Q2 \n",
      "2016-Q3 \n",
      "2016-Q4 \n",
      "2017-Q1 \n",
      "2017-Q2 \n",
      "2017-Q3 \n",
      "2017-Q4 \n",
      "2018-Q1 \n",
      "2018-Q2 \n",
      "2018-Q3 \n",
      "2018-Q4 \n",
      "2019-Q1 \n",
      "2019-Q2 \n",
      "2019-Q3 \n",
      "2019-Q4 \n",
      "2020-Q1 \n",
      "2020-Q2 \n",
      "2020-Q3 \n",
      "2020-Q4 \n",
      "2021-Q1 \n"
     ]
    },
    {
     "ename": "BadZipFile",
     "evalue": "File is not a zip file",
     "output_type": "error",
     "traceback": [
      "\u001b[0;31m---------------------------------------------------------------------------\u001b[0m",
      "\u001b[0;31mBadZipFile\u001b[0m                                Traceback (most recent call last)",
      "\u001b[0;32m<ipython-input-54-67875b94d114>\u001b[0m in \u001b[0;36m<module>\u001b[0;34m\u001b[0m\n\u001b[1;32m      9\u001b[0m     \u001b[0mresponse\u001b[0m \u001b[0;34m=\u001b[0m \u001b[0mrequests\u001b[0m\u001b[0;34m.\u001b[0m\u001b[0mget\u001b[0m\u001b[0;34m(\u001b[0m\u001b[0murl\u001b[0m\u001b[0;34m)\u001b[0m\u001b[0;34m.\u001b[0m\u001b[0mcontent\u001b[0m\u001b[0;34m\u001b[0m\u001b[0;34m\u001b[0m\u001b[0m\n\u001b[1;32m     10\u001b[0m \u001b[0;31m#     try:\u001b[0m\u001b[0;34m\u001b[0m\u001b[0;34m\u001b[0m\u001b[0;34m\u001b[0m\u001b[0m\n\u001b[0;32m---> 11\u001b[0;31m     \u001b[0;32mwith\u001b[0m \u001b[0mZipFile\u001b[0m\u001b[0;34m(\u001b[0m\u001b[0mBytesIO\u001b[0m\u001b[0;34m(\u001b[0m\u001b[0mresponse\u001b[0m\u001b[0;34m)\u001b[0m\u001b[0;34m)\u001b[0m \u001b[0;32mas\u001b[0m \u001b[0mzip_file\u001b[0m\u001b[0;34m:\u001b[0m\u001b[0;34m\u001b[0m\u001b[0;34m\u001b[0m\u001b[0m\n\u001b[0m\u001b[1;32m     12\u001b[0m         \u001b[0mzip_file\u001b[0m\u001b[0;34m.\u001b[0m\u001b[0mextractall\u001b[0m\u001b[0;34m(\u001b[0m\u001b[0mpath\u001b[0m\u001b[0;34m)\u001b[0m\u001b[0;34m\u001b[0m\u001b[0;34m\u001b[0m\u001b[0m\n\u001b[1;32m     13\u001b[0m \u001b[0;31m#             for file in zip_file.namelist():\u001b[0m\u001b[0;34m\u001b[0m\u001b[0;34m\u001b[0m\u001b[0;34m\u001b[0m\u001b[0m\n",
      "\u001b[0;32m~/anaconda3/envs/ml4t/lib/python3.7/zipfile.py\u001b[0m in \u001b[0;36m__init__\u001b[0;34m(self, file, mode, compression, allowZip64, compresslevel)\u001b[0m\n\u001b[1;32m   1256\u001b[0m         \u001b[0;32mtry\u001b[0m\u001b[0;34m:\u001b[0m\u001b[0;34m\u001b[0m\u001b[0;34m\u001b[0m\u001b[0m\n\u001b[1;32m   1257\u001b[0m             \u001b[0;32mif\u001b[0m \u001b[0mmode\u001b[0m \u001b[0;34m==\u001b[0m \u001b[0;34m'r'\u001b[0m\u001b[0;34m:\u001b[0m\u001b[0;34m\u001b[0m\u001b[0;34m\u001b[0m\u001b[0m\n\u001b[0;32m-> 1258\u001b[0;31m                 \u001b[0mself\u001b[0m\u001b[0;34m.\u001b[0m\u001b[0m_RealGetContents\u001b[0m\u001b[0;34m(\u001b[0m\u001b[0;34m)\u001b[0m\u001b[0;34m\u001b[0m\u001b[0;34m\u001b[0m\u001b[0m\n\u001b[0m\u001b[1;32m   1259\u001b[0m             \u001b[0;32melif\u001b[0m \u001b[0mmode\u001b[0m \u001b[0;32min\u001b[0m \u001b[0;34m(\u001b[0m\u001b[0;34m'w'\u001b[0m\u001b[0;34m,\u001b[0m \u001b[0;34m'x'\u001b[0m\u001b[0;34m)\u001b[0m\u001b[0;34m:\u001b[0m\u001b[0;34m\u001b[0m\u001b[0;34m\u001b[0m\u001b[0m\n\u001b[1;32m   1260\u001b[0m                 \u001b[0;31m# set the modified flag so central directory gets written\u001b[0m\u001b[0;34m\u001b[0m\u001b[0;34m\u001b[0m\u001b[0;34m\u001b[0m\u001b[0m\n",
      "\u001b[0;32m~/anaconda3/envs/ml4t/lib/python3.7/zipfile.py\u001b[0m in \u001b[0;36m_RealGetContents\u001b[0;34m(self)\u001b[0m\n\u001b[1;32m   1323\u001b[0m             \u001b[0;32mraise\u001b[0m \u001b[0mBadZipFile\u001b[0m\u001b[0;34m(\u001b[0m\u001b[0;34m\"File is not a zip file\"\u001b[0m\u001b[0;34m)\u001b[0m\u001b[0;34m\u001b[0m\u001b[0;34m\u001b[0m\u001b[0m\n\u001b[1;32m   1324\u001b[0m         \u001b[0;32mif\u001b[0m \u001b[0;32mnot\u001b[0m \u001b[0mendrec\u001b[0m\u001b[0;34m:\u001b[0m\u001b[0;34m\u001b[0m\u001b[0;34m\u001b[0m\u001b[0m\n\u001b[0;32m-> 1325\u001b[0;31m             \u001b[0;32mraise\u001b[0m \u001b[0mBadZipFile\u001b[0m\u001b[0;34m(\u001b[0m\u001b[0;34m\"File is not a zip file\"\u001b[0m\u001b[0;34m)\u001b[0m\u001b[0;34m\u001b[0m\u001b[0;34m\u001b[0m\u001b[0m\n\u001b[0m\u001b[1;32m   1326\u001b[0m         \u001b[0;32mif\u001b[0m \u001b[0mself\u001b[0m\u001b[0;34m.\u001b[0m\u001b[0mdebug\u001b[0m \u001b[0;34m>\u001b[0m \u001b[0;36m1\u001b[0m\u001b[0;34m:\u001b[0m\u001b[0;34m\u001b[0m\u001b[0;34m\u001b[0m\u001b[0m\n\u001b[1;32m   1327\u001b[0m             \u001b[0mprint\u001b[0m\u001b[0;34m(\u001b[0m\u001b[0mendrec\u001b[0m\u001b[0;34m)\u001b[0m\u001b[0;34m\u001b[0m\u001b[0;34m\u001b[0m\u001b[0m\n",
      "\u001b[0;31mBadZipFile\u001b[0m: File is not a zip file"
     ]
    }
   ],
   "source": [
    "for i, (y, q) in enumerate(filing_periods):\n",
    "    print(f'{y}-Q{q}', end=' \\n', flush=True)\n",
    "    filing = f'{y}q{q}_notes.zip'\n",
    "    path = data_path / f'{y}_{q}' / 'source'\n",
    "    if not path.exists():\n",
    "        path.mkdir(exist_ok=True, parents=True)\n",
    "    url = SEC_URL + FSN_PATH + filing\n",
    "    \n",
    "    response = requests.get(url).content\n",
    "    try:\n",
    "        with ZipFile(BytesIO(response)) as zip_file:\n",
    "            zip_file.extractall(path)\n",
    "#             for file in zip_file.namelist():\n",
    "#                 local_file = path / file\n",
    "#                 if local_file.exists():\n",
    "#                     continue\n",
    "#                     try:\n",
    "#                         with local_file.open('wb').readlines as output:\n",
    "#                             for line in zip_file.open(file).readlines:\n",
    "#                                 output.write(line)\n",
    "#                     except Exception as e:\n",
    "#                         print(e)\n",
    "#                         continue\n",
    "    except BadZipFile:\n",
    "        'https://www.sec.gov/files/node/add/data_distribution/2020q1_notes.zip'\n",
    "        print('got bad zip file')\n",
    "        continue"
   ]
  },
  {
   "cell_type": "markdown",
   "metadata": {},
   "source": [
    "## Сохранение в parquet"
   ]
  },
  {
   "cell_type": "markdown",
   "metadata": {},
   "source": [
    "Исходные текстовые текстовые файл занимают довольно большой объем пространства и для более быстрого доступа к данным лучше преобразовать текстовые файлы в двоичный формат"
   ]
  },
  {
   "cell_type": "code",
   "execution_count": 8,
   "metadata": {},
   "outputs": [
    {
     "name": "stdout",
     "output_type": "stream",
     "text": [
      "data/2017_4/source/tag.tsv\n",
      "data/2019_2/source/tag.tsv\n",
      "data/2019_3/source/tag.tsv\n",
      "data/2020_1/source/tag.tsv\n",
      "data/2020_2/source/tag.tsv\n",
      "data/2020_3/source/tag.tsv\n"
     ]
    }
   ],
   "source": [
    "for f in data_path.glob('**/*.tsv'):\n",
    "    file_name = f.stem + '.parquet'\n",
    "    path = Path(f.parents[1]) / 'parquet'\n",
    "    if (path / file_name).exists():\n",
    "        continue\n",
    "    if not path.exists():\n",
    "        path.mkdir(exist_ok=True)\n",
    "    try:\n",
    "        df = pd.read_csv(f, sep='\\t', encoding='latin1', low_memory=False)\n",
    "    except:\n",
    "        print(f)\n",
    "    df.to_parquet(path / file_name)"
   ]
  },
  {
   "cell_type": "markdown",
   "metadata": {},
   "source": [
    "## Организация данных"
   ]
  },
  {
   "cell_type": "markdown",
   "metadata": {},
   "source": [
    "Данные разбиты на наборы ежеквартальных документов, содежащих информацию о поданной отчетности, тегах таксономии и т.п."
   ]
  },
  {
   "cell_type": "markdown",
   "metadata": {},
   "source": [
    "| Имя файла | Dataset      | Описание                                                 |\n",
    "|------|--------------|-------------------------------------------------------------|\n",
    "| SUB  | Submission   | Идентифицирует XBRL представление компании, форме, дате и т.д. |\n",
    "| TAG  | Tag          | Определяет и объясняет каждый тэг таксономии                      |\n",
    "| DIM  | Dimension    | Добавляет детальные численные и текстовые данные                  |\n",
    "| NUM  | Numeric      | Одна строка для каждой отдельной точки данных в архиве              |\n",
    "| TXT  | Plain Text   | Содержит все нечисловые поля XBRL                        |\n",
    "| REN  | Rendering    | Информация для рендеринга на сайте SEC                    |\n",
    "| PRE  | Presentation | Подробная информация о представлении тегов и номеров в первичных документах |\n",
    "| CAL  | Calculation  | Показывает арифметические зависимости между тегами                   |"
   ]
  },
  {
   "cell_type": "markdown",
   "metadata": {},
   "source": [
    "## Идентификационные данные"
   ]
  },
  {
   "cell_type": "markdown",
   "metadata": {},
   "source": [
    "Данные содержат уникальные идентикаторы, необходимые для получения документов: центральный индексный ключ (cik) и регистрационный номер (adsh)."
   ]
  },
  {
   "cell_type": "code",
   "execution_count": 106,
   "metadata": {},
   "outputs": [],
   "source": [
    "sub = pd.read_parquet(data_path / '2020_4' / 'parquet' / 'sub.parquet')\n",
    "sub.name = sub.name.apply(lambda x: x.lower())"
   ]
  },
  {
   "cell_type": "code",
   "execution_count": 122,
   "metadata": {},
   "outputs": [
    {
     "data": {
      "text/plain": [
       "name                  tesla, inc.\n",
       "adsh         0001564590-20-047486\n",
       "cik                       1318605\n",
       "sic                          3711\n",
       "countryba                      US\n",
       "stprba                         CA\n",
       "cityba                  PALO ALTO\n",
       "zipba                       94304\n",
       "bas1           3500 DEER CREEK RD\n",
       "form                         10-Q\n",
       "period                   20200930\n",
       "fy                           2020\n",
       "fp                             Q3\n",
       "filed                    20201026\n",
       "Name: 2715, dtype: object"
      ]
     },
     "execution_count": 122,
     "metadata": {},
     "output_type": "execute_result"
    }
   ],
   "source": [
    "name = 'tesla'\n",
    "form = '10-Q'\n",
    "firm = sub[sub.name.apply(lambda x: x.find(name.lower()) != -1)]\n",
    "firm = firm[firm.form == form]\n",
    "key_cols = ['name', 'adsh', 'cik', 'name', 'sic', 'countryba', 'stprba',\n",
    "            'cityba', 'zipba', 'bas1', 'form', 'period', 'fy', 'fp', 'filed']\n",
    "firm = firm[key_cols]\n",
    "firm = firm.T.dropna().squeeze().drop_duplicates()\n",
    "firm"
   ]
  },
  {
   "cell_type": "markdown",
   "metadata": {},
   "source": [
    "##  Создание набора данных на основании идентификационных данных"
   ]
  },
  {
   "cell_type": "markdown",
   "metadata": {},
   "source": [
    "Используя индентификационных ключ cik, получаем все исторические данные по отчетам, доступным для компании."
   ]
  },
  {
   "cell_type": "markdown",
   "metadata": {},
   "source": [
    "### Получение документов"
   ]
  },
  {
   "cell_type": "code",
   "execution_count": 123,
   "metadata": {},
   "outputs": [],
   "source": [
    "firm_subs = pd.DataFrame()\n",
    "for sub in data_path.glob('**/sub.parquet'):\n",
    "    sub = pd.read_parquet(sub)\n",
    "    firm_sub = sub[(sub.cik.astype(int) == firm.cik) & (sub.form.isin(['10-Q', '10-K']))]\n",
    "    firm_subs = pd.concat([firm_subs, firm_sub])"
   ]
  },
  {
   "cell_type": "code",
   "execution_count": 125,
   "metadata": {},
   "outputs": [
    {
     "data": {
      "text/plain": [
       "10-Q    21\n",
       "10-K     7\n",
       "Name: form, dtype: int64"
      ]
     },
     "execution_count": 125,
     "metadata": {},
     "output_type": "execute_result"
    }
   ],
   "source": [
    "firm_subs.form.value_counts()"
   ]
  }
 ],
 "metadata": {
  "kernelspec": {
   "display_name": "Python 3",
   "language": "python",
   "name": "python3"
  },
  "language_info": {
   "codemirror_mode": {
    "name": "ipython",
    "version": 3
   },
   "file_extension": ".py",
   "mimetype": "text/x-python",
   "name": "python",
   "nbconvert_exporter": "python",
   "pygments_lexer": "ipython3",
   "version": "3.7.6"
  }
 },
 "nbformat": 4,
 "nbformat_minor": 4
}
