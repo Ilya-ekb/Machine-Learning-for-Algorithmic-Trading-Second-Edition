{
 "cells": [
  {
   "cell_type": "markdown",
   "metadata": {},
   "source": [
    "# Working with filing data from the SEC's EDGAR service"
   ]
  },
  {
   "cell_type": "code",
   "execution_count": 10,
   "metadata": {
    "ExecuteTime": {
     "end_time": "2020-06-17T09:43:34.785387Z",
     "start_time": "2020-06-17T09:43:34.782178Z"
    }
   },
   "outputs": [],
   "source": [
    "import warnings\n",
    "warnings.filterwarnings('ignore')"
   ]
  },
  {
   "cell_type": "code",
   "execution_count": 3,
   "metadata": {
    "ExecuteTime": {
     "end_time": "2020-06-17T09:43:36.718588Z",
     "start_time": "2020-06-17T09:43:34.788206Z"
    },
    "scrolled": true
   },
   "outputs": [],
   "source": [
    "%matplotlib inline\n",
    "\n",
    "from pathlib import Path\n",
    "from datetime import date\n",
    "import json\n",
    "from io import BytesIO\n",
    "from zipfile import ZipFile, BadZipFile\n",
    "import requests\n",
    "\n",
    "import pandas_datareader.data as web\n",
    "import pandas as pd\n",
    "\n",
    "from pprint import pprint\n",
    "\n",
    "import seaborn as sns\n",
    "import matplotlib.pyplot as plt\n",
    "import matplotlib.ticker as mticker"
   ]
  },
  {
   "cell_type": "code",
   "execution_count": 3,
   "metadata": {
    "ExecuteTime": {
     "end_time": "2020-06-17T09:43:36.725846Z",
     "start_time": "2020-06-17T09:43:36.720298Z"
    },
    "scrolled": true
   },
   "outputs": [],
   "source": [
    "sns.set_style('whitegrid')"
   ]
  },
  {
   "cell_type": "code",
   "execution_count": 5,
   "metadata": {
    "ExecuteTime": {
     "end_time": "2020-06-17T09:43:36.736625Z",
     "start_time": "2020-06-17T09:43:36.728071Z"
    }
   },
   "outputs": [],
   "source": [
    "data_path = Path('data') # perhaps set to external harddrive to accomodate large amount of data\n",
    "if not data_path.exists():\n",
    "    data_path.mkdir()"
   ]
  },
  {
   "cell_type": "markdown",
   "metadata": {},
   "source": [
    "## Download FS & Notes"
   ]
  },
  {
   "cell_type": "markdown",
   "metadata": {},
   "source": [
    "The following code downloads and extracts all historical filings contained in the [Financial Statement and Notes](https://www.sec.gov/dera/data/financial-statement-and-notes-data-set.html) (FSN) datasets for the given range of quarters:"
   ]
  },
  {
   "cell_type": "markdown",
   "metadata": {},
   "source": [
    "**Downloads over 40GB of data!**"
   ]
  },
  {
   "cell_type": "code",
   "execution_count": 5,
   "metadata": {
    "ExecuteTime": {
     "end_time": "2020-06-17T09:43:36.748929Z",
     "start_time": "2020-06-17T09:43:36.738187Z"
    }
   },
   "outputs": [],
   "source": [
    "SEC_URL = 'https://www.sec.gov/'\n",
    "FSN_PATH = 'files/dera/data/financial-statement-and-notes-data-sets/'"
   ]
  },
  {
   "cell_type": "code",
   "execution_count": 6,
   "metadata": {
    "ExecuteTime": {
     "end_time": "2020-06-17T09:43:36.756896Z",
     "start_time": "2020-06-17T09:43:36.750569Z"
    }
   },
   "outputs": [],
   "source": [
    "today = pd.Timestamp(date.today())\n",
    "this_year = today.year\n",
    "this_quarter = today.quarter\n",
    "past_years = range(2014, this_year)"
   ]
  },
  {
   "cell_type": "code",
   "execution_count": 33,
   "metadata": {
    "ExecuteTime": {
     "end_time": "2020-06-17T09:43:36.764906Z",
     "start_time": "2020-06-17T09:43:36.759443Z"
    }
   },
   "outputs": [
    {
     "data": {
      "text/plain": [
       "[(2020, 2)]"
      ]
     },
     "execution_count": 33,
     "metadata": {},
     "output_type": "execute_result"
    }
   ],
   "source": [
    "filing_periods = [(y, q) for y in past_years for q in range(1, 5)]\n",
    "filing_periods.extend([(this_year, q) for q in range(1, this_quarter + 1)])\n",
    "filing_periods[-4: -3]"
   ]
  },
  {
   "cell_type": "code",
   "execution_count": 32,
   "metadata": {
    "ExecuteTime": {
     "end_time": "2020-06-17T09:55:22.826190Z",
     "start_time": "2020-06-17T09:43:36.766942Z"
    }
   },
   "outputs": [
    {
     "name": "stdout",
     "output_type": "stream",
     "text": [
      "2014-Q1 2014-Q2 2014-Q3 2014-Q4 2015-Q1 2015-Q2 2015-Q3 "
     ]
    },
    {
     "ename": "KeyboardInterrupt",
     "evalue": "",
     "output_type": "error",
     "traceback": [
      "\u001b[0;31m---------------------------------------------------------------------------\u001b[0m",
      "\u001b[0;31mKeyboardInterrupt\u001b[0m                         Traceback (most recent call last)",
      "\u001b[0;32m<ipython-input-32-f230b5a14446>\u001b[0m in \u001b[0;36m<module>\u001b[0;34m\u001b[0m\n\u001b[1;32m     10\u001b[0m     \u001b[0;32mif\u001b[0m \u001b[0myr\u001b[0m \u001b[0;34m==\u001b[0m \u001b[0;36m2020\u001b[0m \u001b[0;32mand\u001b[0m \u001b[0mqtr\u001b[0m \u001b[0;34m==\u001b[0m \u001b[0;36m1\u001b[0m\u001b[0;34m:\u001b[0m\u001b[0;34m\u001b[0m\u001b[0;34m\u001b[0m\u001b[0m\n\u001b[1;32m     11\u001b[0m         \u001b[0murl\u001b[0m \u001b[0;34m=\u001b[0m \u001b[0mSEC_URL\u001b[0m \u001b[0;34m+\u001b[0m \u001b[0;34m'files/node/add/data_distribution/'\u001b[0m \u001b[0;34m+\u001b[0m \u001b[0mfiling\u001b[0m\u001b[0;34m\u001b[0m\u001b[0;34m\u001b[0m\u001b[0m\n\u001b[0;32m---> 12\u001b[0;31m     \u001b[0mresponse\u001b[0m \u001b[0;34m=\u001b[0m \u001b[0mrequests\u001b[0m\u001b[0;34m.\u001b[0m\u001b[0mget\u001b[0m\u001b[0;34m(\u001b[0m\u001b[0murl\u001b[0m\u001b[0;34m)\u001b[0m\u001b[0;34m.\u001b[0m\u001b[0mcontent\u001b[0m\u001b[0;34m\u001b[0m\u001b[0;34m\u001b[0m\u001b[0m\n\u001b[0m\u001b[1;32m     13\u001b[0m     \u001b[0;32mtry\u001b[0m\u001b[0;34m:\u001b[0m\u001b[0;34m\u001b[0m\u001b[0;34m\u001b[0m\u001b[0m\n\u001b[1;32m     14\u001b[0m         \u001b[0;32mwith\u001b[0m \u001b[0mZipFile\u001b[0m\u001b[0;34m(\u001b[0m\u001b[0mBytesIO\u001b[0m\u001b[0;34m(\u001b[0m\u001b[0mresponse\u001b[0m\u001b[0;34m)\u001b[0m\u001b[0;34m)\u001b[0m \u001b[0;32mas\u001b[0m \u001b[0mzip_file\u001b[0m\u001b[0;34m:\u001b[0m\u001b[0;34m\u001b[0m\u001b[0;34m\u001b[0m\u001b[0m\n",
      "\u001b[0;32m~/anaconda3/envs/ml4t/lib/python3.7/site-packages/requests/api.py\u001b[0m in \u001b[0;36mget\u001b[0;34m(url, params, **kwargs)\u001b[0m\n\u001b[1;32m     73\u001b[0m \u001b[0;34m\u001b[0m\u001b[0m\n\u001b[1;32m     74\u001b[0m     \u001b[0mkwargs\u001b[0m\u001b[0;34m.\u001b[0m\u001b[0msetdefault\u001b[0m\u001b[0;34m(\u001b[0m\u001b[0;34m'allow_redirects'\u001b[0m\u001b[0;34m,\u001b[0m \u001b[0;32mTrue\u001b[0m\u001b[0;34m)\u001b[0m\u001b[0;34m\u001b[0m\u001b[0;34m\u001b[0m\u001b[0m\n\u001b[0;32m---> 75\u001b[0;31m     \u001b[0;32mreturn\u001b[0m \u001b[0mrequest\u001b[0m\u001b[0;34m(\u001b[0m\u001b[0;34m'get'\u001b[0m\u001b[0;34m,\u001b[0m \u001b[0murl\u001b[0m\u001b[0;34m,\u001b[0m \u001b[0mparams\u001b[0m\u001b[0;34m=\u001b[0m\u001b[0mparams\u001b[0m\u001b[0;34m,\u001b[0m \u001b[0;34m**\u001b[0m\u001b[0mkwargs\u001b[0m\u001b[0;34m)\u001b[0m\u001b[0;34m\u001b[0m\u001b[0;34m\u001b[0m\u001b[0m\n\u001b[0m\u001b[1;32m     76\u001b[0m \u001b[0;34m\u001b[0m\u001b[0m\n\u001b[1;32m     77\u001b[0m \u001b[0;34m\u001b[0m\u001b[0m\n",
      "\u001b[0;32m~/anaconda3/envs/ml4t/lib/python3.7/site-packages/requests/api.py\u001b[0m in \u001b[0;36mrequest\u001b[0;34m(method, url, **kwargs)\u001b[0m\n\u001b[1;32m     58\u001b[0m     \u001b[0;31m# cases, and look like a memory leak in others.\u001b[0m\u001b[0;34m\u001b[0m\u001b[0;34m\u001b[0m\u001b[0;34m\u001b[0m\u001b[0m\n\u001b[1;32m     59\u001b[0m     \u001b[0;32mwith\u001b[0m \u001b[0msessions\u001b[0m\u001b[0;34m.\u001b[0m\u001b[0mSession\u001b[0m\u001b[0;34m(\u001b[0m\u001b[0;34m)\u001b[0m \u001b[0;32mas\u001b[0m \u001b[0msession\u001b[0m\u001b[0;34m:\u001b[0m\u001b[0;34m\u001b[0m\u001b[0;34m\u001b[0m\u001b[0m\n\u001b[0;32m---> 60\u001b[0;31m         \u001b[0;32mreturn\u001b[0m \u001b[0msession\u001b[0m\u001b[0;34m.\u001b[0m\u001b[0mrequest\u001b[0m\u001b[0;34m(\u001b[0m\u001b[0mmethod\u001b[0m\u001b[0;34m=\u001b[0m\u001b[0mmethod\u001b[0m\u001b[0;34m,\u001b[0m \u001b[0murl\u001b[0m\u001b[0;34m=\u001b[0m\u001b[0murl\u001b[0m\u001b[0;34m,\u001b[0m \u001b[0;34m**\u001b[0m\u001b[0mkwargs\u001b[0m\u001b[0;34m)\u001b[0m\u001b[0;34m\u001b[0m\u001b[0;34m\u001b[0m\u001b[0m\n\u001b[0m\u001b[1;32m     61\u001b[0m \u001b[0;34m\u001b[0m\u001b[0m\n\u001b[1;32m     62\u001b[0m \u001b[0;34m\u001b[0m\u001b[0m\n",
      "\u001b[0;32m~/anaconda3/envs/ml4t/lib/python3.7/site-packages/requests/sessions.py\u001b[0m in \u001b[0;36mrequest\u001b[0;34m(self, method, url, params, data, headers, cookies, files, auth, timeout, allow_redirects, proxies, hooks, stream, verify, cert, json)\u001b[0m\n\u001b[1;32m    531\u001b[0m         }\n\u001b[1;32m    532\u001b[0m         \u001b[0msend_kwargs\u001b[0m\u001b[0;34m.\u001b[0m\u001b[0mupdate\u001b[0m\u001b[0;34m(\u001b[0m\u001b[0msettings\u001b[0m\u001b[0;34m)\u001b[0m\u001b[0;34m\u001b[0m\u001b[0;34m\u001b[0m\u001b[0m\n\u001b[0;32m--> 533\u001b[0;31m         \u001b[0mresp\u001b[0m \u001b[0;34m=\u001b[0m \u001b[0mself\u001b[0m\u001b[0;34m.\u001b[0m\u001b[0msend\u001b[0m\u001b[0;34m(\u001b[0m\u001b[0mprep\u001b[0m\u001b[0;34m,\u001b[0m \u001b[0;34m**\u001b[0m\u001b[0msend_kwargs\u001b[0m\u001b[0;34m)\u001b[0m\u001b[0;34m\u001b[0m\u001b[0;34m\u001b[0m\u001b[0m\n\u001b[0m\u001b[1;32m    534\u001b[0m \u001b[0;34m\u001b[0m\u001b[0m\n\u001b[1;32m    535\u001b[0m         \u001b[0;32mreturn\u001b[0m \u001b[0mresp\u001b[0m\u001b[0;34m\u001b[0m\u001b[0;34m\u001b[0m\u001b[0m\n",
      "\u001b[0;32m~/anaconda3/envs/ml4t/lib/python3.7/site-packages/requests/sessions.py\u001b[0m in \u001b[0;36msend\u001b[0;34m(self, request, **kwargs)\u001b[0m\n\u001b[1;32m    684\u001b[0m \u001b[0;34m\u001b[0m\u001b[0m\n\u001b[1;32m    685\u001b[0m         \u001b[0;32mif\u001b[0m \u001b[0;32mnot\u001b[0m \u001b[0mstream\u001b[0m\u001b[0;34m:\u001b[0m\u001b[0;34m\u001b[0m\u001b[0;34m\u001b[0m\u001b[0m\n\u001b[0;32m--> 686\u001b[0;31m             \u001b[0mr\u001b[0m\u001b[0;34m.\u001b[0m\u001b[0mcontent\u001b[0m\u001b[0;34m\u001b[0m\u001b[0;34m\u001b[0m\u001b[0m\n\u001b[0m\u001b[1;32m    687\u001b[0m \u001b[0;34m\u001b[0m\u001b[0m\n\u001b[1;32m    688\u001b[0m         \u001b[0;32mreturn\u001b[0m \u001b[0mr\u001b[0m\u001b[0;34m\u001b[0m\u001b[0;34m\u001b[0m\u001b[0m\n",
      "\u001b[0;32m~/anaconda3/envs/ml4t/lib/python3.7/site-packages/requests/models.py\u001b[0m in \u001b[0;36mcontent\u001b[0;34m(self)\u001b[0m\n\u001b[1;32m    826\u001b[0m                 \u001b[0mself\u001b[0m\u001b[0;34m.\u001b[0m\u001b[0m_content\u001b[0m \u001b[0;34m=\u001b[0m \u001b[0;32mNone\u001b[0m\u001b[0;34m\u001b[0m\u001b[0;34m\u001b[0m\u001b[0m\n\u001b[1;32m    827\u001b[0m             \u001b[0;32melse\u001b[0m\u001b[0;34m:\u001b[0m\u001b[0;34m\u001b[0m\u001b[0;34m\u001b[0m\u001b[0m\n\u001b[0;32m--> 828\u001b[0;31m                 \u001b[0mself\u001b[0m\u001b[0;34m.\u001b[0m\u001b[0m_content\u001b[0m \u001b[0;34m=\u001b[0m \u001b[0;34mb''\u001b[0m\u001b[0;34m.\u001b[0m\u001b[0mjoin\u001b[0m\u001b[0;34m(\u001b[0m\u001b[0mself\u001b[0m\u001b[0;34m.\u001b[0m\u001b[0miter_content\u001b[0m\u001b[0;34m(\u001b[0m\u001b[0mCONTENT_CHUNK_SIZE\u001b[0m\u001b[0;34m)\u001b[0m\u001b[0;34m)\u001b[0m \u001b[0;32mor\u001b[0m \u001b[0;34mb''\u001b[0m\u001b[0;34m\u001b[0m\u001b[0;34m\u001b[0m\u001b[0m\n\u001b[0m\u001b[1;32m    829\u001b[0m \u001b[0;34m\u001b[0m\u001b[0m\n\u001b[1;32m    830\u001b[0m         \u001b[0mself\u001b[0m\u001b[0;34m.\u001b[0m\u001b[0m_content_consumed\u001b[0m \u001b[0;34m=\u001b[0m \u001b[0;32mTrue\u001b[0m\u001b[0;34m\u001b[0m\u001b[0;34m\u001b[0m\u001b[0m\n",
      "\u001b[0;32m~/anaconda3/envs/ml4t/lib/python3.7/site-packages/requests/models.py\u001b[0m in \u001b[0;36mgenerate\u001b[0;34m()\u001b[0m\n\u001b[1;32m    748\u001b[0m             \u001b[0;32mif\u001b[0m \u001b[0mhasattr\u001b[0m\u001b[0;34m(\u001b[0m\u001b[0mself\u001b[0m\u001b[0;34m.\u001b[0m\u001b[0mraw\u001b[0m\u001b[0;34m,\u001b[0m \u001b[0;34m'stream'\u001b[0m\u001b[0;34m)\u001b[0m\u001b[0;34m:\u001b[0m\u001b[0;34m\u001b[0m\u001b[0;34m\u001b[0m\u001b[0m\n\u001b[1;32m    749\u001b[0m                 \u001b[0;32mtry\u001b[0m\u001b[0;34m:\u001b[0m\u001b[0;34m\u001b[0m\u001b[0;34m\u001b[0m\u001b[0m\n\u001b[0;32m--> 750\u001b[0;31m                     \u001b[0;32mfor\u001b[0m \u001b[0mchunk\u001b[0m \u001b[0;32min\u001b[0m \u001b[0mself\u001b[0m\u001b[0;34m.\u001b[0m\u001b[0mraw\u001b[0m\u001b[0;34m.\u001b[0m\u001b[0mstream\u001b[0m\u001b[0;34m(\u001b[0m\u001b[0mchunk_size\u001b[0m\u001b[0;34m,\u001b[0m \u001b[0mdecode_content\u001b[0m\u001b[0;34m=\u001b[0m\u001b[0;32mTrue\u001b[0m\u001b[0;34m)\u001b[0m\u001b[0;34m:\u001b[0m\u001b[0;34m\u001b[0m\u001b[0;34m\u001b[0m\u001b[0m\n\u001b[0m\u001b[1;32m    751\u001b[0m                         \u001b[0;32myield\u001b[0m \u001b[0mchunk\u001b[0m\u001b[0;34m\u001b[0m\u001b[0;34m\u001b[0m\u001b[0m\n\u001b[1;32m    752\u001b[0m                 \u001b[0;32mexcept\u001b[0m \u001b[0mProtocolError\u001b[0m \u001b[0;32mas\u001b[0m \u001b[0me\u001b[0m\u001b[0;34m:\u001b[0m\u001b[0;34m\u001b[0m\u001b[0;34m\u001b[0m\u001b[0m\n",
      "\u001b[0;32m~/anaconda3/envs/ml4t/lib/python3.7/site-packages/urllib3/response.py\u001b[0m in \u001b[0;36mstream\u001b[0;34m(self, amt, decode_content)\u001b[0m\n\u001b[1;32m    562\u001b[0m         \u001b[0;32melse\u001b[0m\u001b[0;34m:\u001b[0m\u001b[0;34m\u001b[0m\u001b[0;34m\u001b[0m\u001b[0m\n\u001b[1;32m    563\u001b[0m             \u001b[0;32mwhile\u001b[0m \u001b[0;32mnot\u001b[0m \u001b[0mis_fp_closed\u001b[0m\u001b[0;34m(\u001b[0m\u001b[0mself\u001b[0m\u001b[0;34m.\u001b[0m\u001b[0m_fp\u001b[0m\u001b[0;34m)\u001b[0m\u001b[0;34m:\u001b[0m\u001b[0;34m\u001b[0m\u001b[0;34m\u001b[0m\u001b[0m\n\u001b[0;32m--> 564\u001b[0;31m                 \u001b[0mdata\u001b[0m \u001b[0;34m=\u001b[0m \u001b[0mself\u001b[0m\u001b[0;34m.\u001b[0m\u001b[0mread\u001b[0m\u001b[0;34m(\u001b[0m\u001b[0mamt\u001b[0m\u001b[0;34m=\u001b[0m\u001b[0mamt\u001b[0m\u001b[0;34m,\u001b[0m \u001b[0mdecode_content\u001b[0m\u001b[0;34m=\u001b[0m\u001b[0mdecode_content\u001b[0m\u001b[0;34m)\u001b[0m\u001b[0;34m\u001b[0m\u001b[0;34m\u001b[0m\u001b[0m\n\u001b[0m\u001b[1;32m    565\u001b[0m \u001b[0;34m\u001b[0m\u001b[0m\n\u001b[1;32m    566\u001b[0m                 \u001b[0;32mif\u001b[0m \u001b[0mdata\u001b[0m\u001b[0;34m:\u001b[0m\u001b[0;34m\u001b[0m\u001b[0;34m\u001b[0m\u001b[0m\n",
      "\u001b[0;32m~/anaconda3/envs/ml4t/lib/python3.7/site-packages/urllib3/response.py\u001b[0m in \u001b[0;36mread\u001b[0;34m(self, amt, decode_content, cache_content)\u001b[0m\n\u001b[1;32m    505\u001b[0m             \u001b[0;32melse\u001b[0m\u001b[0;34m:\u001b[0m\u001b[0;34m\u001b[0m\u001b[0;34m\u001b[0m\u001b[0m\n\u001b[1;32m    506\u001b[0m                 \u001b[0mcache_content\u001b[0m \u001b[0;34m=\u001b[0m \u001b[0;32mFalse\u001b[0m\u001b[0;34m\u001b[0m\u001b[0;34m\u001b[0m\u001b[0m\n\u001b[0;32m--> 507\u001b[0;31m                 \u001b[0mdata\u001b[0m \u001b[0;34m=\u001b[0m \u001b[0mself\u001b[0m\u001b[0;34m.\u001b[0m\u001b[0m_fp\u001b[0m\u001b[0;34m.\u001b[0m\u001b[0mread\u001b[0m\u001b[0;34m(\u001b[0m\u001b[0mamt\u001b[0m\u001b[0;34m)\u001b[0m \u001b[0;32mif\u001b[0m \u001b[0;32mnot\u001b[0m \u001b[0mfp_closed\u001b[0m \u001b[0;32melse\u001b[0m \u001b[0;34mb\"\"\u001b[0m\u001b[0;34m\u001b[0m\u001b[0;34m\u001b[0m\u001b[0m\n\u001b[0m\u001b[1;32m    508\u001b[0m                 if (\n\u001b[1;32m    509\u001b[0m                     \u001b[0mamt\u001b[0m \u001b[0;34m!=\u001b[0m \u001b[0;36m0\u001b[0m \u001b[0;32mand\u001b[0m \u001b[0;32mnot\u001b[0m \u001b[0mdata\u001b[0m\u001b[0;34m\u001b[0m\u001b[0;34m\u001b[0m\u001b[0m\n",
      "\u001b[0;32m~/anaconda3/envs/ml4t/lib/python3.7/http/client.py\u001b[0m in \u001b[0;36mread\u001b[0;34m(self, amt)\u001b[0m\n\u001b[1;32m    455\u001b[0m             \u001b[0;31m# Amount is given, implement using readinto\u001b[0m\u001b[0;34m\u001b[0m\u001b[0;34m\u001b[0m\u001b[0;34m\u001b[0m\u001b[0m\n\u001b[1;32m    456\u001b[0m             \u001b[0mb\u001b[0m \u001b[0;34m=\u001b[0m \u001b[0mbytearray\u001b[0m\u001b[0;34m(\u001b[0m\u001b[0mamt\u001b[0m\u001b[0;34m)\u001b[0m\u001b[0;34m\u001b[0m\u001b[0;34m\u001b[0m\u001b[0m\n\u001b[0;32m--> 457\u001b[0;31m             \u001b[0mn\u001b[0m \u001b[0;34m=\u001b[0m \u001b[0mself\u001b[0m\u001b[0;34m.\u001b[0m\u001b[0mreadinto\u001b[0m\u001b[0;34m(\u001b[0m\u001b[0mb\u001b[0m\u001b[0;34m)\u001b[0m\u001b[0;34m\u001b[0m\u001b[0;34m\u001b[0m\u001b[0m\n\u001b[0m\u001b[1;32m    458\u001b[0m             \u001b[0;32mreturn\u001b[0m \u001b[0mmemoryview\u001b[0m\u001b[0;34m(\u001b[0m\u001b[0mb\u001b[0m\u001b[0;34m)\u001b[0m\u001b[0;34m[\u001b[0m\u001b[0;34m:\u001b[0m\u001b[0mn\u001b[0m\u001b[0;34m]\u001b[0m\u001b[0;34m.\u001b[0m\u001b[0mtobytes\u001b[0m\u001b[0;34m(\u001b[0m\u001b[0;34m)\u001b[0m\u001b[0;34m\u001b[0m\u001b[0;34m\u001b[0m\u001b[0m\n\u001b[1;32m    459\u001b[0m         \u001b[0;32melse\u001b[0m\u001b[0;34m:\u001b[0m\u001b[0;34m\u001b[0m\u001b[0;34m\u001b[0m\u001b[0m\n",
      "\u001b[0;32m~/anaconda3/envs/ml4t/lib/python3.7/http/client.py\u001b[0m in \u001b[0;36mreadinto\u001b[0;34m(self, b)\u001b[0m\n\u001b[1;32m    499\u001b[0m         \u001b[0;31m# connection, and the user is reading more bytes than will be provided\u001b[0m\u001b[0;34m\u001b[0m\u001b[0;34m\u001b[0m\u001b[0;34m\u001b[0m\u001b[0m\n\u001b[1;32m    500\u001b[0m         \u001b[0;31m# (for example, reading in 1k chunks)\u001b[0m\u001b[0;34m\u001b[0m\u001b[0;34m\u001b[0m\u001b[0;34m\u001b[0m\u001b[0m\n\u001b[0;32m--> 501\u001b[0;31m         \u001b[0mn\u001b[0m \u001b[0;34m=\u001b[0m \u001b[0mself\u001b[0m\u001b[0;34m.\u001b[0m\u001b[0mfp\u001b[0m\u001b[0;34m.\u001b[0m\u001b[0mreadinto\u001b[0m\u001b[0;34m(\u001b[0m\u001b[0mb\u001b[0m\u001b[0;34m)\u001b[0m\u001b[0;34m\u001b[0m\u001b[0;34m\u001b[0m\u001b[0m\n\u001b[0m\u001b[1;32m    502\u001b[0m         \u001b[0;32mif\u001b[0m \u001b[0;32mnot\u001b[0m \u001b[0mn\u001b[0m \u001b[0;32mand\u001b[0m \u001b[0mb\u001b[0m\u001b[0;34m:\u001b[0m\u001b[0;34m\u001b[0m\u001b[0;34m\u001b[0m\u001b[0m\n\u001b[1;32m    503\u001b[0m             \u001b[0;31m# Ideally, we would raise IncompleteRead if the content-length\u001b[0m\u001b[0;34m\u001b[0m\u001b[0;34m\u001b[0m\u001b[0;34m\u001b[0m\u001b[0m\n",
      "\u001b[0;32m~/anaconda3/envs/ml4t/lib/python3.7/socket.py\u001b[0m in \u001b[0;36mreadinto\u001b[0;34m(self, b)\u001b[0m\n\u001b[1;32m    587\u001b[0m         \u001b[0;32mwhile\u001b[0m \u001b[0;32mTrue\u001b[0m\u001b[0;34m:\u001b[0m\u001b[0;34m\u001b[0m\u001b[0;34m\u001b[0m\u001b[0m\n\u001b[1;32m    588\u001b[0m             \u001b[0;32mtry\u001b[0m\u001b[0;34m:\u001b[0m\u001b[0;34m\u001b[0m\u001b[0;34m\u001b[0m\u001b[0m\n\u001b[0;32m--> 589\u001b[0;31m                 \u001b[0;32mreturn\u001b[0m \u001b[0mself\u001b[0m\u001b[0;34m.\u001b[0m\u001b[0m_sock\u001b[0m\u001b[0;34m.\u001b[0m\u001b[0mrecv_into\u001b[0m\u001b[0;34m(\u001b[0m\u001b[0mb\u001b[0m\u001b[0;34m)\u001b[0m\u001b[0;34m\u001b[0m\u001b[0;34m\u001b[0m\u001b[0m\n\u001b[0m\u001b[1;32m    590\u001b[0m             \u001b[0;32mexcept\u001b[0m \u001b[0mtimeout\u001b[0m\u001b[0;34m:\u001b[0m\u001b[0;34m\u001b[0m\u001b[0;34m\u001b[0m\u001b[0m\n\u001b[1;32m    591\u001b[0m                 \u001b[0mself\u001b[0m\u001b[0;34m.\u001b[0m\u001b[0m_timeout_occurred\u001b[0m \u001b[0;34m=\u001b[0m \u001b[0;32mTrue\u001b[0m\u001b[0;34m\u001b[0m\u001b[0;34m\u001b[0m\u001b[0m\n",
      "\u001b[0;32m~/anaconda3/envs/ml4t/lib/python3.7/site-packages/urllib3/contrib/pyopenssl.py\u001b[0m in \u001b[0;36mrecv_into\u001b[0;34m(self, *args, **kwargs)\u001b[0m\n\u001b[1;32m    311\u001b[0m     \u001b[0;32mdef\u001b[0m \u001b[0mrecv_into\u001b[0m\u001b[0;34m(\u001b[0m\u001b[0mself\u001b[0m\u001b[0;34m,\u001b[0m \u001b[0;34m*\u001b[0m\u001b[0margs\u001b[0m\u001b[0;34m,\u001b[0m \u001b[0;34m**\u001b[0m\u001b[0mkwargs\u001b[0m\u001b[0;34m)\u001b[0m\u001b[0;34m:\u001b[0m\u001b[0;34m\u001b[0m\u001b[0;34m\u001b[0m\u001b[0m\n\u001b[1;32m    312\u001b[0m         \u001b[0;32mtry\u001b[0m\u001b[0;34m:\u001b[0m\u001b[0;34m\u001b[0m\u001b[0;34m\u001b[0m\u001b[0m\n\u001b[0;32m--> 313\u001b[0;31m             \u001b[0;32mreturn\u001b[0m \u001b[0mself\u001b[0m\u001b[0;34m.\u001b[0m\u001b[0mconnection\u001b[0m\u001b[0;34m.\u001b[0m\u001b[0mrecv_into\u001b[0m\u001b[0;34m(\u001b[0m\u001b[0;34m*\u001b[0m\u001b[0margs\u001b[0m\u001b[0;34m,\u001b[0m \u001b[0;34m**\u001b[0m\u001b[0mkwargs\u001b[0m\u001b[0;34m)\u001b[0m\u001b[0;34m\u001b[0m\u001b[0;34m\u001b[0m\u001b[0m\n\u001b[0m\u001b[1;32m    314\u001b[0m         \u001b[0;32mexcept\u001b[0m \u001b[0mOpenSSL\u001b[0m\u001b[0;34m.\u001b[0m\u001b[0mSSL\u001b[0m\u001b[0;34m.\u001b[0m\u001b[0mSysCallError\u001b[0m \u001b[0;32mas\u001b[0m \u001b[0me\u001b[0m\u001b[0;34m:\u001b[0m\u001b[0;34m\u001b[0m\u001b[0;34m\u001b[0m\u001b[0m\n\u001b[1;32m    315\u001b[0m             \u001b[0;32mif\u001b[0m \u001b[0mself\u001b[0m\u001b[0;34m.\u001b[0m\u001b[0msuppress_ragged_eofs\u001b[0m \u001b[0;32mand\u001b[0m \u001b[0me\u001b[0m\u001b[0;34m.\u001b[0m\u001b[0margs\u001b[0m \u001b[0;34m==\u001b[0m \u001b[0;34m(\u001b[0m\u001b[0;34m-\u001b[0m\u001b[0;36m1\u001b[0m\u001b[0;34m,\u001b[0m \u001b[0;34m\"Unexpected EOF\"\u001b[0m\u001b[0;34m)\u001b[0m\u001b[0;34m:\u001b[0m\u001b[0;34m\u001b[0m\u001b[0;34m\u001b[0m\u001b[0m\n",
      "\u001b[0;32m~/anaconda3/envs/ml4t/lib/python3.7/site-packages/OpenSSL/SSL.py\u001b[0m in \u001b[0;36mrecv_into\u001b[0;34m(self, buffer, nbytes, flags)\u001b[0m\n\u001b[1;32m   1837\u001b[0m             \u001b[0mresult\u001b[0m \u001b[0;34m=\u001b[0m \u001b[0m_lib\u001b[0m\u001b[0;34m.\u001b[0m\u001b[0mSSL_peek\u001b[0m\u001b[0;34m(\u001b[0m\u001b[0mself\u001b[0m\u001b[0;34m.\u001b[0m\u001b[0m_ssl\u001b[0m\u001b[0;34m,\u001b[0m \u001b[0mbuf\u001b[0m\u001b[0;34m,\u001b[0m \u001b[0mnbytes\u001b[0m\u001b[0;34m)\u001b[0m\u001b[0;34m\u001b[0m\u001b[0;34m\u001b[0m\u001b[0m\n\u001b[1;32m   1838\u001b[0m         \u001b[0;32melse\u001b[0m\u001b[0;34m:\u001b[0m\u001b[0;34m\u001b[0m\u001b[0;34m\u001b[0m\u001b[0m\n\u001b[0;32m-> 1839\u001b[0;31m             \u001b[0mresult\u001b[0m \u001b[0;34m=\u001b[0m \u001b[0m_lib\u001b[0m\u001b[0;34m.\u001b[0m\u001b[0mSSL_read\u001b[0m\u001b[0;34m(\u001b[0m\u001b[0mself\u001b[0m\u001b[0;34m.\u001b[0m\u001b[0m_ssl\u001b[0m\u001b[0;34m,\u001b[0m \u001b[0mbuf\u001b[0m\u001b[0;34m,\u001b[0m \u001b[0mnbytes\u001b[0m\u001b[0;34m)\u001b[0m\u001b[0;34m\u001b[0m\u001b[0;34m\u001b[0m\u001b[0m\n\u001b[0m\u001b[1;32m   1840\u001b[0m         \u001b[0mself\u001b[0m\u001b[0;34m.\u001b[0m\u001b[0m_raise_ssl_error\u001b[0m\u001b[0;34m(\u001b[0m\u001b[0mself\u001b[0m\u001b[0;34m.\u001b[0m\u001b[0m_ssl\u001b[0m\u001b[0;34m,\u001b[0m \u001b[0mresult\u001b[0m\u001b[0;34m)\u001b[0m\u001b[0;34m\u001b[0m\u001b[0;34m\u001b[0m\u001b[0m\n\u001b[1;32m   1841\u001b[0m \u001b[0;34m\u001b[0m\u001b[0m\n",
      "\u001b[0;31mKeyboardInterrupt\u001b[0m: "
     ]
    }
   ],
   "source": [
    "for i, (yr, qtr) in enumerate(filing_periods[:], 1):\n",
    "    print(f'{yr}-Q{qtr}', end=' ', flush=True)\n",
    "    filing = f'{yr}q{qtr}_notes.zip'\n",
    "    path = data_path / f'{yr}_{qtr}' / 'source'\n",
    "    if not path.exists():\n",
    "        path.mkdir(exist_ok=True, parents=True)\n",
    "    url = SEC_URL + FSN_PATH + filing\n",
    "    \n",
    "    # 2020q1 is currently (Oct 2020) in a different location; this may change at some point\n",
    "    if yr == 2020 and qtr == 1:\n",
    "        url = SEC_URL + 'files/node/add/data_distribution/' + filing\n",
    "    response = requests.get(url).content\n",
    "    try:\n",
    "        with ZipFile(BytesIO(response)) as zip_file:\n",
    "            for file in zip_file.namelist():\n",
    "                local_file = path / file\n",
    "                if local_file.exists():\n",
    "                    continue\n",
    "                with local_file.open('wb') as output:\n",
    "                    for line in zip_file.open(file).readlines():\n",
    "                        output.write(line)\n",
    "    except BadZipFile:\n",
    "        'https://www.sec.gov/files/node/add/data_distribution/2020q1_notes.zip'\n",
    "        print('got bad zip file')\n",
    "        continue"
   ]
  },
  {
   "cell_type": "markdown",
   "metadata": {},
   "source": [
    "## Save to parquet"
   ]
  },
  {
   "cell_type": "markdown",
   "metadata": {},
   "source": [
    "The data is fairly large and to enable faster access than the original text files permit, it is better to convert the text files to binary, columnar parquet format (see Section 'Efficient data storage with pandas' in chapter 2 for a performance comparison of various data-storage options compatible with pandas DataFrames):"
   ]
  },
  {
   "cell_type": "code",
   "execution_count": 12,
   "metadata": {
    "ExecuteTime": {
     "end_time": "2020-06-17T10:24:34.700791Z",
     "start_time": "2020-06-17T09:55:22.827490Z"
    },
    "scrolled": true
   },
   "outputs": [
    {
     "name": "stdout",
     "output_type": "stream",
     "text": [
      "data/2020_2/source/tag.tsv\n"
     ]
    }
   ],
   "source": [
    "for f in data_path.glob('**/*.tsv'):\n",
    "    file_name = f.stem  + '.parquet'\n",
    "    path = Path(f.parents[1]) / 'parquet'\n",
    "    if (path / file_name).exists():\n",
    "        continue\n",
    "    if not path.exists():\n",
    "        path.mkdir(exist_ok=True)\n",
    "    try:\n",
    "        df = pd.read_csv(f, sep='\\t', encoding='latin1', low_memory=False)\n",
    "    except:\n",
    "        print(f)\n",
    "    df.to_parquet(path / file_name)"
   ]
  },
  {
   "cell_type": "code",
   "execution_count": 25,
   "metadata": {},
   "outputs": [],
   "source": [
    "yr_dir = str(path).split('/')[1]"
   ]
  },
  {
   "cell_type": "code",
   "execution_count": 26,
   "metadata": {},
   "outputs": [
    {
     "data": {
      "text/plain": [
       "'2020q2'"
      ]
     },
     "execution_count": 26,
     "metadata": {},
     "output_type": "execute_result"
    }
   ],
   "source": [
    "yr_dir.replace('_', 'q')"
   ]
  },
  {
   "cell_type": "markdown",
   "metadata": {},
   "source": [
    "## Metadata json"
   ]
  },
  {
   "cell_type": "code",
   "execution_count": 29,
   "metadata": {
    "ExecuteTime": {
     "end_time": "2020-06-17T10:24:34.964410Z",
     "start_time": "2020-06-17T10:24:34.702404Z"
    },
    "scrolled": true
   },
   "outputs": [
    {
     "data": {
      "text/plain": [
       "{'@context': 'http://www.w3.org/ns/csvw',\n",
       " 'dialect': {'header': True, 'headerRowCount': 1, 'delimiter': '\\t'},\n",
       " 'tables': [{'url': 'sub.tsv',\n",
       "   'tableSchema': {'aboutUrl': 'readme.htm',\n",
       "    'primaryKey': 'adsh',\n",
       "    'columns': [{'name': 'adsh',\n",
       "      'titles': ['Accession Number'],\n",
       "      'required': 'true',\n",
       "      'datatype': {'base': 'string', 'minLength': 20, 'maxLength': 20},\n",
       "      'dc:description': 'Accession Number. The 20-character string formed from the 18-digit number assigned by the Commission to each EDGAR submission.'},\n",
       "     {'name': 'cik',\n",
       "      'titles': ['Central Index Key'],\n",
       "      'datatype': {'base': 'decimal', 'minInclusive': 0, 'maxLength': 10},\n",
       "      'dc:description': 'Central Index Key (CIK). Ten digit number assigned by the Commission to each registrant that submits filings.'},\n",
       "     {'name': 'name',\n",
       "      'titles': ['Registrant'],\n",
       "      'datatype': {'base': 'string', 'maxLength': 150},\n",
       "      'dc:description': 'Name of registrant. This corresponds to the name of the legal entity as recorded in EDGAR as of the filing date.'},\n",
       "     {'name': 'sic',\n",
       "      'titles': ['Standard Industrial Classification Code'],\n",
       "      'datatype': {'base': 'string', 'maxLength': 4},\n",
       "      'dc:description': \"Standard Industrial Classification (SIC). Four digit code assigned by the Commission as of the filing date, indicating the registrant's type of business.\"},\n",
       "     {'name': 'countryba',\n",
       "      'titles': ['Business Address Country', 'Country (B)'],\n",
       "      'datatype': {'base': 'string', 'minLength': 2, 'maxLength': 2},\n",
       "      'dc:description': \"The ISO 3166-1 country of the registrant's business address.\"},\n",
       "     {'name': 'stprba',\n",
       "      'titles': ['Business Address State or Province', 'State (B)'],\n",
       "      'datatype': {'base': 'string', 'minLength': 2, 'maxLength': 2},\n",
       "      'dc:description': \"The state or province of the registrant's business address, if field countryba is US or CA.\"},\n",
       "     {'name': 'cityba',\n",
       "      'titles': ['Business Address City', 'City (B)'],\n",
       "      'datatype': {'base': 'string', 'maxLength': 30},\n",
       "      'dc:description': \"The city of the registrant's business address.\"},\n",
       "     {'name': 'zipba',\n",
       "      'titles': ['Business Address Zip or Postal Code', 'Zip (B)'],\n",
       "      'datatype': {'base': 'string', 'maxLength': 10},\n",
       "      'dc:description': \"The zip code of the registrant's business address.\"},\n",
       "     {'name': 'bas1',\n",
       "      'titles': ['Business Address Street 1', 'Street1 (B)'],\n",
       "      'datatype': {'base': 'string', 'maxLength': 40},\n",
       "      'dc:description': \"The first line of the street of the registrant's business address.\"},\n",
       "     {'name': 'bas2',\n",
       "      'titles': ['Business Address Street 2', 'Street2 (B)'],\n",
       "      'datatype': {'base': 'string', 'maxLength': 40},\n",
       "      'dc:description': \"The second line of the street of the registrant's business address.\"},\n",
       "     {'name': 'baph',\n",
       "      'titles': ['Business Address Phone', 'Phone (B)'],\n",
       "      'datatype': {'base': 'string', 'maxLength': 20},\n",
       "      'dc:description': \"The phone number of the registrant's business address.\"},\n",
       "     {'name': 'countryma',\n",
       "      'titles': ['Mailing Address Country', 'Country (M)'],\n",
       "      'datatype': {'base': 'string', 'minLength': 2, 'maxLength': 2},\n",
       "      'dc:description': \"The ISO 3166-1 country of the registrant's mailing address.\"},\n",
       "     {'name': 'stprma',\n",
       "      'titles': ['Mailing Address State or Province', 'State (M)'],\n",
       "      'datatype': {'base': 'string', 'minLength': 2, 'maxLength': 2},\n",
       "      'dc:description': \"The state or province of the registrant's mailing address, if field countryma is US or CA.\"},\n",
       "     {'name': 'cityma',\n",
       "      'titles': ['Mailing Address City', 'City (M)'],\n",
       "      'datatype': {'base': 'string', 'maxLength': 30},\n",
       "      'dc:description': \"The city of the registrant's mailing address.\"},\n",
       "     {'name': 'zipma',\n",
       "      'titles': ['Mailing Address Zip or Postal Code', 'Zip (M)'],\n",
       "      'datatype': {'base': 'string', 'maxLength': 12},\n",
       "      'dc:description': \"The zip code of the registrant's mailing address.\"},\n",
       "     {'name': 'mas1',\n",
       "      'titles': ['Mailing Address Street1', 'Street1 (M)'],\n",
       "      'datatype': {'base': 'string', 'maxLength': 40},\n",
       "      'dc:description': \"The first line of the street of the registrant's mailing address.\"},\n",
       "     {'name': 'mas2',\n",
       "      'titles': ['Mailing Address Street2', 'Street1 (M)'],\n",
       "      'datatype': {'base': 'string', 'maxLength': 40},\n",
       "      'dc:description': \"The second line of the street of the registrant's mailing address.\"},\n",
       "     {'name': 'countryinc',\n",
       "      'titles': ['Country of Incorporation', 'Incorporation Country'],\n",
       "      'datatype': {'base': 'string', 'minLength': 2, 'maxLength': 2},\n",
       "      'dc:description': 'The country of incorporation for the registrant.'},\n",
       "     {'name': 'stprinc',\n",
       "      'titles': ['State or Province of Incorporation', 'Incorporation State'],\n",
       "      'datatype': {'base': 'string', 'minLength': 2, 'maxLength': 2},\n",
       "      'dc:description': 'The state or province of incorporation for the registrant, if countryinc is US or CA, otherwise NULL.'},\n",
       "     {'name': 'ein',\n",
       "      'titles': ['EIN', 'Employee Identification Number'],\n",
       "      'datatype': {'base': 'string', 'maxLength': 9},\n",
       "      'dc:description': 'Employee Identification Number, 9 digit identification number assigned by the Internal Revenue Service to business entities operating in the United States.'},\n",
       "     {'name': 'former',\n",
       "      'titles': ['Former Name'],\n",
       "      'datatype': {'base': 'string', 'maxLength': 150},\n",
       "      'dc:description': 'Most recent former name of the registrant, if any.'},\n",
       "     {'name': 'changed',\n",
       "      'titles': ['Date of Name Change'],\n",
       "      'datatype': {'base': 'string', 'minLength': 8, 'maxLength': 8},\n",
       "      'dc:description': 'Date of change from the former name, if any.'},\n",
       "     {'name': 'afs',\n",
       "      'titles': ['Status', 'Accelerated Filer Status'],\n",
       "      'datatype': {'base': 'string', 'maxLength': 5},\n",
       "      'dc:description': 'Filer status with the Commission at the time of submission: 1-LAF=Large Accelerated, 2-ACC=Accelerated, 3-SRA=Smaller Reporting Accelerated, 4-NON=Non-Accelerated, 5-SML=Smaller Reporting Filer, NULL=not assigned.'},\n",
       "     {'name': 'wksi',\n",
       "      'titles': ['Well-known Seasoned Issuer'],\n",
       "      'datatype': {'base': 'decimal', 'minInclusive': 0, 'maxInclusive': 1},\n",
       "      'dc:description': 'Well Known Seasoned Issuer (WKSI). An issuer that meets specific Commission requirements at some point during a 60-day period preceding the date the issuer satisfies its obligation to update its shelf registration statement.'},\n",
       "     {'name': 'fye',\n",
       "      'titles': ['FY End Date'],\n",
       "      'datatype': {'base': 'string', 'maxLength': 4},\n",
       "      'dc:description': 'Fiscal Year End Date, rounded to nearest month-end.'},\n",
       "     {'name': 'form',\n",
       "      'titles': ['Submission Type', 'Filing Type', 'EDGAR Form Type'],\n",
       "      'datatype': {'base': 'string', 'maxLength': 20},\n",
       "      'dc:description': \"The submission type of the registrant's filing.\"},\n",
       "     {'name': 'period',\n",
       "      'titles': ['Report Period',\n",
       "       'Date of Balance Sheet, rounded to nearest month-end'],\n",
       "      'datatype': {'base': 'string', 'minLength': 8, 'maxLength': 8},\n",
       "      'dc:description': 'Balance Sheet Date.'},\n",
       "     {'name': 'fy',\n",
       "      'titles': ['Fiscal Year'],\n",
       "      'datatype': {'base': 'string', 'minLength': 4, 'maxLength': 4},\n",
       "      'dc:description': 'Fiscal Year Focus (as defined in EFM Ch. 6).'},\n",
       "     {'name': 'fp',\n",
       "      'titles': ['Fiscal Period'],\n",
       "      'datatype': {'base': 'string', 'minLength': 2, 'maxLength': 2},\n",
       "      'dc:description': 'Fiscal Period Focus (as defined in EFM Ch. 6) within Fiscal Year. The 10-Q for the 1st, 2nd and 3rd quarters would have a fiscal period focus of Q1, Q2 (or H1), and Q3 (or M9) respectively, and a 10-K would have a fiscal period focus of FY.'},\n",
       "     {'name': 'filed',\n",
       "      'titles': ['Date Filed'],\n",
       "      'datatype': {'base': 'string', 'maxLength': 8},\n",
       "      'dc:description': \"The date of the registrant's filing with the Commission.\"},\n",
       "     {'name': 'accepted',\n",
       "      'titles': ['Acceptance Datetime'],\n",
       "      'datatype': {'base': 'date', 'format': 'YYYYMMDD HH:MM:SS.S'},\n",
       "      'dc:description': \"The acceptance date and time of the registrant's filing with the Commission. Filings accepted after 5:30pm EST are considered filed on the following business day.\"},\n",
       "     {'name': 'prevrpt',\n",
       "      'titles': ['Previous Report Flag', 'Subsequently Amended Flag'],\n",
       "      'required': 'true',\n",
       "      'datatype': {'base': 'decimal', 'minInclusive': 0, 'maxInclusive': 255},\n",
       "      'dc:description': 'Previous Report.  TRUE indicates that the submission information was subsequently amended prior to the end cutoff date of the data set.'},\n",
       "     {'name': 'detail',\n",
       "      'titles': ['Detail Tagged'],\n",
       "      'required': 'true',\n",
       "      'datatype': {'base': 'decimal', 'minInclusive': 0, 'maxInclusive': 255},\n",
       "      'dc:description': 'TRUE indicates that the XBRL submission contains quantitative disclosures within the footnotes and schedules at the required detail level (e.g., each amount).'},\n",
       "     {'name': 'instance',\n",
       "      'titles': ['Instance Filename'],\n",
       "      'datatype': {'base': 'string', 'maxLength': 32},\n",
       "      'dc:description': 'The name of the submitted XBRL Instance Document (EX-101.INS) type data file. The name often begins with the company ticker symbol.'},\n",
       "     {'name': 'nciks',\n",
       "      'titles': ['Number of Coregistrants'],\n",
       "      'required': 'true',\n",
       "      'datatype': {'base': 'decimal',\n",
       "       'minInclusive': 0,\n",
       "       'maxInclusive': 32767},\n",
       "      'dc:description': \"Number of Central Index Keys (CIK) of registrants (i.e., business units) included in the consolidating entity's submitted filing.\"},\n",
       "     {'name': 'aciks',\n",
       "      'titles': ['Additional Coregistrant CIKs'],\n",
       "      'datatype': {'base': 'string', 'maxLength': 120},\n",
       "      'dc:description': \"Additional CIKs of co-registrants included in a consolidating entity's EDGAR submission, separated by spaces. If there are no other co-registrants (i.e., nciks = 1), the value of aciks is NULL. For a very small number of filers, the list of co-registrants is too long to fit in the field. Where this is the case, PARTIAL will appear at the end of the list indicating that not all co-registrants' CIKs are included in the field; users should refer to the complete submission file for all CIK information.\"},\n",
       "     {'name': 'pubfloatusd',\n",
       "      'titles': ['Public Float'],\n",
       "      'datatype': {'base': 'decimal'},\n",
       "      'dc:description': 'Public float, in USD, if provided in this submission.'},\n",
       "     {'name': 'floatdate',\n",
       "      'titles': ['Public Float Measurement Date'],\n",
       "      'datatype': {'base': 'string', 'maxLength': 8},\n",
       "      'dc:description': 'Date on which the public float was measured by the filer.'},\n",
       "     {'name': 'floataxis',\n",
       "      'titles': ['Public Float Axis'],\n",
       "      'datatype': {'base': 'string', 'maxLength': 255},\n",
       "      'dc:description': 'If the public float value was computed by summing across several tagged values, this indicates the nature of the summation.'},\n",
       "     {'name': 'floatmems',\n",
       "      'titles': ['Public Float Members'],\n",
       "      'datatype': {'base': 'decimal', 'minInclusive': 0, 'maxInclusive': 255},\n",
       "      'dc:description': 'If the public float was computed, the number of terms in the summation.'}]}},\n",
       "  {'url': 'tag.tsv',\n",
       "   'tableSchema': {'aboutUrl': 'readme.htm',\n",
       "    'primaryKey': ['tag', 'version'],\n",
       "    'columns': [{'name': 'tag',\n",
       "      'titles': ['Localname'],\n",
       "      'required': 'true',\n",
       "      'datatype': {'base': 'string', 'maxLength': 256},\n",
       "      'dc:description': 'The unique identifier (name) for a tag in a specific taxonomy release.'},\n",
       "     {'name': 'version',\n",
       "      'titles': ['Namespace', 'Taxonomy'],\n",
       "      'required': 'true',\n",
       "      'datatype': {'base': 'string', 'maxLength': 20},\n",
       "      'dc:description': 'For a standard tag, an identifier for the taxonomy; otherwise the accession number where the tag was defined.'},\n",
       "     {'name': 'custom',\n",
       "      'titles': [],\n",
       "      'required': 'true',\n",
       "      'datatype': {'base': 'decimal', 'minInclusive': 0, 'maxInclusive': 1},\n",
       "      'dc:description': '1 if tag is custom (version=adsh), 0 if it is standard. Note: This flag is technically redundant with the version and adsh fields.'},\n",
       "     {'name': 'abstract',\n",
       "      'titles': [],\n",
       "      'required': 'true',\n",
       "      'datatype': {'base': 'decimal', 'minInclusive': 0, 'maxInclusive': 1},\n",
       "      'dc:description': '1 if the tag is not used to represent a numeric fact.'},\n",
       "     {'name': 'datatype',\n",
       "      'titles': [],\n",
       "      'datatype': {'base': 'string', 'maxLength': 20},\n",
       "      'dc:description': 'If abstract=1, then NULL, otherwise the data type (e.g., monetary) for the tag.'},\n",
       "     {'name': 'iord',\n",
       "      'titles': ['Instant or Duration'],\n",
       "      'datatype': {'base': 'string', 'maxLength': 1},\n",
       "      'dc:description': 'If abstract=1, then NULL; otherwise, I if the value is a point in time, or D if the value is a duration.'},\n",
       "     {'name': 'crdr',\n",
       "      'titles': ['Credit or Debit'],\n",
       "      'datatype': {'base': 'string', 'maxLength': 1},\n",
       "      'dc:description': \"If datatype = monetary, then the tag's natural accounting balance from the perspective of the balance sheet or income statement (debit or credit); if not defined, then NULL.\"},\n",
       "     {'name': 'tlabel',\n",
       "      'titles': ['Label'],\n",
       "      'datatype': {'base': 'string', 'maxLength': 512},\n",
       "      'dc:description': 'If a standard tag, then the label text provided by the taxonomy, otherwise the text provided by the filer. A tag which had neither would have a NULL value here.'},\n",
       "     {'name': 'doc',\n",
       "      'titles': ['Documentation'],\n",
       "      'datatype': {'base': 'string'},\n",
       "      'dc:description': 'The detailed definition for the tag. If a standard tag, then the text provided by the taxonomy, otherwise the text assigned by the filer. Some tags have neither, in which case this field is NULL.'}]}},\n",
       "  {'url': 'dim.tsv',\n",
       "   'tableSchema': {'aboutUrl': 'readme.htm',\n",
       "    'primaryKey': 'dimh',\n",
       "    'columns': [{'name': 'dimh',\n",
       "      'titles': ['Dimension Hash'],\n",
       "      'required': 'true',\n",
       "      'datatype': {'base': 'string', 'maxLength': 34},\n",
       "      'dc:description': 'MD5 hash of the segments field text. Although MD5 is unsuitable for cryptographic use, it is used here merely to limit the size of the primary key.'},\n",
       "     {'name': 'segments',\n",
       "      'titles': [],\n",
       "      'datatype': {'base': 'string', 'maxLength': 1024},\n",
       "      'dc:description': 'Concatenation of tag names representing the axis and members appearing in the XBRL segments. Tag names have their first characters \"Statement\", last 4 characters \"Axis\", and last 6 characters \"Member\" or \"Domain\" truncated where they appear. Namespaces and prefixes are ignored because EDGAR validation guarantees that the local-names are unique with a submission. Each dimension is represented as the pair \"{axis}={member};\" and the axes concatenated in lexical order. Example: \"LegalEntity=Xyz;Scenario=Restated;\" represents the XBRL segment with dimension LegalEntityAxis and member XyzMember, dimension StatementScenarioAxis and member RestatedMember.'},\n",
       "     {'name': 'segt',\n",
       "      'titles': ['Segments Truncated'],\n",
       "      'required': 'true',\n",
       "      'datatype': {'base': 'decimal', 'minInclusive': 0, 'maxInclusive': 1},\n",
       "      'dc:description': 'TRUE if the segments field would have been longer than 1024 characters had it not been truncated, else FALSE.'}]}},\n",
       "  {'url': 'num.tsv',\n",
       "   'tableSchema': {'aboutUrl': 'readme.htm',\n",
       "    'primaryKey': ['adsh',\n",
       "     'tag',\n",
       "     'version',\n",
       "     'ddate',\n",
       "     'qtrs',\n",
       "     'uom',\n",
       "     'dimh',\n",
       "     'iprx'],\n",
       "    'columns': [{'name': 'adsh',\n",
       "      'titles': ['Accession Number'],\n",
       "      'required': 'true',\n",
       "      'datatype': {'base': 'string', 'minLength': 20, 'maxLength': 20},\n",
       "      'dc:description': 'Accession Number. The 20-character string formed from the 18-digit number assigned by the Commission to each EDGAR submission.'},\n",
       "     {'name': 'tag',\n",
       "      'titles': ['Localname'],\n",
       "      'required': 'true',\n",
       "      'datatype': {'base': 'string', 'maxLength': 255},\n",
       "      'dc:description': 'The unique identifier (name) for a tag in a specific taxonomy release.'},\n",
       "     {'name': 'version',\n",
       "      'titles': ['Namespace'],\n",
       "      'required': 'true',\n",
       "      'datatype': {'base': 'string', 'maxLength': 20},\n",
       "      'dc:description': 'For a standard tag, an identifier for the taxonomy; otherwise the accession number where the tag was defined.'},\n",
       "     {'name': 'ddate',\n",
       "      'titles': ['Data Date'],\n",
       "      'required': 'true',\n",
       "      'datatype': {'base': 'string', 'minLength': 8, 'maxLength': 8},\n",
       "      'dc:description': 'The end date for the data value, rounded to the nearest month end.'},\n",
       "     {'name': 'qtrs',\n",
       "      'titles': ['Quarters'],\n",
       "      'required': 'true',\n",
       "      'datatype': {'base': 'decimal', 'minInclusive': 0},\n",
       "      'dc:description': 'The count of the number of quarters represented by the data value, rounded to the nearest whole number. \"0\" indicates it is a point-in-time value.'},\n",
       "     {'name': 'uom',\n",
       "      'titles': ['Unit of Measure'],\n",
       "      'required': 'true',\n",
       "      'datatype': {'base': 'string', 'maxLength': 50},\n",
       "      'dc:description': 'The unit of measure for the value.'},\n",
       "     {'name': 'dimh',\n",
       "      'titles': ['Dimension Hash'],\n",
       "      'datatype': {'base': 'string', 'maxLength': 34},\n",
       "      'dc:description': 'The 32-byte hexadecimal key for the dimensional information in the DIM data set.'},\n",
       "     {'name': 'iprx',\n",
       "      'titles': ['Fact Preference'],\n",
       "      'datatype': {'base': 'decimal',\n",
       "       'minInclusive': 0,\n",
       "       'maxInclusive': 32767},\n",
       "      'dc:description': 'A positive integer to distinguish different reported facts that otherwise would have the same primary key. For most purposes, data with iprx greater than 1 are not needed. The priority for the fact based on higher precision, closeness of the end date to a month end, and closeness of the duration to a multiple of three months. See fields dcml, durp and datp below.'},\n",
       "     {'name': 'value',\n",
       "      'titles': [],\n",
       "      'datatype': {'base': 'decimal'},\n",
       "      'dc:description': 'The value. This is not scaled, it is as found in the Interactive Data file, but is rounded to four digits to the right of the decimal point.'},\n",
       "     {'name': 'footnote',\n",
       "      'titles': ['Footnote Text'],\n",
       "      'datatype': {'base': 'string', 'maxLength': 512},\n",
       "      'dc:description': 'The plain text of any superscripted footnotes on the value, if any, as shown on the statement page, truncated to 512 characters.'},\n",
       "     {'name': 'footlen',\n",
       "      'titles': ['Footnote Length'],\n",
       "      'required': 'true',\n",
       "      'datatype': {'base': 'decimal', 'minInclusive': 0},\n",
       "      'dc:description': 'Number of bytes in the plain text of the footnote prior to truncation; zero if no footnote.'},\n",
       "     {'name': 'dimn',\n",
       "      'titles': ['Number of Dimensions'],\n",
       "      'required': 'true',\n",
       "      'datatype': {'base': 'decimal', 'minInclusive': 0},\n",
       "      'dc:description': 'Small integer representing the number of dimensions. Note that this value is a function of the dimension segments.'},\n",
       "     {'name': 'coreg',\n",
       "      'titles': ['Coregistrant'],\n",
       "      'datatype': {'base': 'string', 'maxLength': 256},\n",
       "      'dc:description': 'If specified, indicates a specific co-registrant, the parent company, or other entity (e.g., guarantor). NULL indicates the consolidated entity. Note that this value is a function of the dimension segments.'},\n",
       "     {'name': 'durp',\n",
       "      'titles': ['Duration Preference'],\n",
       "      'datatype': {'base': 'decimal'},\n",
       "      'dc:description': 'The difference between the reported fact duration and the quarter duration (qtrs), expressed as a fraction of 1. For example, a fact with duration of 120 days rounded to a 91-day quarter has a durp value of 29/91 = +0.3187.'},\n",
       "     {'name': 'datp',\n",
       "      'titles': ['Date Preference'],\n",
       "      'datatype': {'base': 'decimal'},\n",
       "      'dc:description': 'The date proximity in number of days between end date reported and month-end rounded date.'},\n",
       "     {'name': 'dcml',\n",
       "      'titles': ['Decimals'],\n",
       "      'datatype': {'base': 'decimal',\n",
       "       'minInclusive': -32768,\n",
       "       'maxInclusive': 32767},\n",
       "      'dc:description': 'The value of the fact \"decimals\" attribute, with INF represented by 32767.'}],\n",
       "    'foreignKeys': [{'columnReference': 'adsh',\n",
       "      'reference': {'resource': 'sub.tsv', 'columnReference': 'adsh'}},\n",
       "     {'columnReference': 'dimh',\n",
       "      'reference': {'resource': 'https://wwww.sec.gov/files2020q2.zip#path=dim.tsv',\n",
       "       'columnReference': 'dimh'}},\n",
       "     {'columnReference': ['tag', 'version'],\n",
       "      'reference': {'resource': 'https://wwww.sec.gov/files2020q2.zip#path=tag.tsv',\n",
       "       'columnReference': ['tag', 'version']}}]}},\n",
       "  {'url': 'txt.tsv',\n",
       "   'tableSchema': {'aboutUrl': 'readme.htm',\n",
       "    'primaryKey': ['adsh', 'tag', 'version', 'ddate', 'qtrs', 'dimh', 'iprx'],\n",
       "    'columns': [{'name': 'adsh',\n",
       "      'titles': ['Accession number'],\n",
       "      'required': 'true',\n",
       "      'datatype': {'base': 'string', 'minLength': 20, 'maxLength': 20},\n",
       "      'dc:description': 'Accession Number. The 20-character string formed from the 18-digit number assigned by the Commission to each EDGAR submission.'},\n",
       "     {'name': 'tag',\n",
       "      'titles': ['Localname'],\n",
       "      'required': 'true',\n",
       "      'datatype': {'base': 'string', 'maxLength': 255},\n",
       "      'dc:description': 'The unique identifier (name) for a tag in a specific taxonomy release.'},\n",
       "     {'name': 'version',\n",
       "      'titles': ['Namespace', 'Taxonomy'],\n",
       "      'required': 'true',\n",
       "      'datatype': {'base': 'string', 'maxLength': 20},\n",
       "      'dc:description': 'For a standard tag, an identifier for the taxonomy; otherwise the accession number where the tag was defined. For example, \"invest/2013\" indicates that the tag is defined in the 2013 INVEST taxonomy.'},\n",
       "     {'name': 'ddate',\n",
       "      'titles': ['Data Date'],\n",
       "      'required': 'true',\n",
       "      'datatype': {'base': 'string', 'minLength': 8, 'maxLength': 8},\n",
       "      'dc:description': 'The end date for the data value, rounded to the nearest month end.'},\n",
       "     {'name': 'qtrs',\n",
       "      'titles': ['Quarters'],\n",
       "      'required': 'true',\n",
       "      'datatype': {'base': 'decimal', 'minInclusive': 0},\n",
       "      'dc:description': 'The count of the number of quarters represented by the data value, rounded to the nearest whole number. A point in time value is represented by 0.'},\n",
       "     {'name': 'iprx',\n",
       "      'titles': ['Fact Preference', 'Preferred Fact Sort Key'],\n",
       "      'datatype': {'base': 'decimal',\n",
       "       'minInclusive': -32768,\n",
       "       'maxInclusive': 32767},\n",
       "      'dc:description': 'A positive integer to distinguish different reported facts that otherwise would have the same primary key. For most purposes, data with iprx greater than 1 are not needed. The priority for the fact based on higher precision, closeness of the end date to a month end, and closeness of the duration to a multiple of three months. See fields dcml, durp and datp below.'},\n",
       "     {'name': 'lang',\n",
       "      'titles': ['Language'],\n",
       "      'datatype': {'base': 'string', 'maxLength': 5},\n",
       "      'dc:description': 'The ISO language code of the fact content.'},\n",
       "     {'name': 'dcml',\n",
       "      'titles': ['Language Preference', 'Language Sort Key'],\n",
       "      'datatype': {'base': 'decimal',\n",
       "       'minInclusive': -32768,\n",
       "       'maxInclusive': 32767},\n",
       "      'dc:description': 'The value of the fact \"xml:lang\" attribute, en-US represented by 32767, other \"en\" dialects having lower values, and other languages lower still.'},\n",
       "     {'name': 'durp',\n",
       "      'titles': ['Duration Preference'],\n",
       "      'datatype': {'base': 'decimal'},\n",
       "      'dc:description': 'The difference between the reported fact duration and the quarter duration (qtrs), expressed as a fraction of 1. For example, a fact with duration of 120 days rounded to a 91-day quarter has a durp value of 29/91 = +0.3187.'},\n",
       "     {'name': 'datp',\n",
       "      'titles': ['Date Preference'],\n",
       "      'datatype': {'base': 'decimal'},\n",
       "      'dc:description': 'The date proximity in number of days between end date reported and month-end rounded date.'},\n",
       "     {'name': 'dimh',\n",
       "      'titles': ['Dimension Hash'],\n",
       "      'datatype': {'base': 'string', 'maxLength': 34},\n",
       "      'dc:description': 'The 32-byte hexadecimal key for the dimensional information in the DIM data set.'},\n",
       "     {'name': 'dimn',\n",
       "      'titles': ['Number of Dimensions'],\n",
       "      'required': 'true',\n",
       "      'datatype': {'base': 'decimal', 'minInclusive': 0},\n",
       "      'dc:description': 'Small integer representing the number of dimensions, useful for sorting. Note that this value is function of the dimension segments.'},\n",
       "     {'name': 'coreg',\n",
       "      'titles': ['Coregistrant'],\n",
       "      'datatype': {'base': 'string', 'maxLength': 256},\n",
       "      'dc:description': 'If specified, indicates a specific co-registrant, the parent company, or other entity (e.g., guarantor). NULL indicates the consolidated entity. Note that this value is a function of the dimension segments.'},\n",
       "     {'name': 'escaped',\n",
       "      'titles': [],\n",
       "      'required': 'true',\n",
       "      'datatype': {'base': 'decimal', 'minInclusive': 0, 'maxInclusive': 1},\n",
       "      'dc:description': 'Flag indicating whether the value has had tags removed.'},\n",
       "     {'name': 'srclen',\n",
       "      'titles': ['Source Length'],\n",
       "      'required': 'true',\n",
       "      'datatype': {'base': 'decimal', 'minInclusive': 0},\n",
       "      'dc:description': 'Number of bytes in the original, unprocessed value. Zero indicates a NULL value.'},\n",
       "     {'name': 'txtlen',\n",
       "      'titles': ['Text Length'],\n",
       "      'required': 'true',\n",
       "      'datatype': {'base': 'decimal', 'minInclusive': 0},\n",
       "      'dc:description': 'The original length of the whitespace normalized value, which may have been greater than 8192.'},\n",
       "     {'name': 'footnote',\n",
       "      'titles': ['Footnote Text'],\n",
       "      'datatype': {'base': 'string', 'maxLength': 512},\n",
       "      'dc:description': 'The plain text of any superscripted footnotes on the value, as shown on the page, truncated to 512 characters, or if there is no footnote, then this field will be blank.'},\n",
       "     {'name': 'footlen',\n",
       "      'titles': ['Footnote Length'],\n",
       "      'required': 'true',\n",
       "      'datatype': {'base': 'decimal', 'minInclusive': 0},\n",
       "      'dc:description': 'Number of bytes in the plain text of the footnote prior to truncation.'},\n",
       "     {'name': 'context',\n",
       "      'titles': ['Context Ref'],\n",
       "      'datatype': {'base': 'string', 'maxLength': 255},\n",
       "      'dc:description': 'The value of the contextRef attribute in the source XBRL document, which can be used to recover the original HTML tagging if desired.'},\n",
       "     {'name': 'value',\n",
       "      'titles': [],\n",
       "      'datatype': {'base': 'string'},\n",
       "      'dc:description': 'The value, with all whitespace normalized, that is, all sequences of line feeds, carriage returns, tabs, non-breaking spaces, and spaces having been collapsed to a single space, and no leading or trailing spaces. Escaped XML that appears in EDGAR \"Text Block\" tags is processed to remove all mark-up (comments, processing instructions, elements, attributes). The resulting text is not intended for end user display but only for text analysis applications.'}],\n",
       "    'foreignKeys': [{'columnReference': 'adsh',\n",
       "      'reference': {'resource': 'sub.tsv', 'columnReference': 'adsh'}},\n",
       "     {'columnReference': 'dimh',\n",
       "      'reference': {'resource': 'https://wwww.sec.gov/files2020q2.zip#path=dim.tsv',\n",
       "       'columnReference': 'dimh'}},\n",
       "     {'columnReference': ['tag', 'version'],\n",
       "      'reference': {'resource': 'https://wwww.sec.gov/files2020q2.zip#path=tag.tsv',\n",
       "       'columnReference': ['tag', 'version']}}]}},\n",
       "  {'url': 'ren.tsv',\n",
       "   'tableSchema': {'aboutUrl': 'readme.htm',\n",
       "    'primaryKey': ['adsh', 'report'],\n",
       "    'columns': [{'name': 'adsh',\n",
       "      'titles': ['Accession Number'],\n",
       "      'required': 'true',\n",
       "      'datatype': {'base': 'string', 'minLength': 20, 'maxLength': 20},\n",
       "      'dc:description': 'Accession Number. The 20-character string formed from the 18-digit number assigned by the Commission to each EDGAR submission.'},\n",
       "     {'name': 'report',\n",
       "      'titles': ['Report Number'],\n",
       "      'required': 'true',\n",
       "      'datatype': {'base': 'decimal', 'minInclusive': 0},\n",
       "      'dc:description': 'Represents the report grouping. The numeric value refers to the \"R file\" as computed by the renderer and posted on the EDGAR website. Note that in some situations the numbers skip.'},\n",
       "     {'name': 'rfile',\n",
       "      'titles': ['Report File Type'],\n",
       "      'required': 'true',\n",
       "      'datatype': {'base': 'string', 'maxLength': 1},\n",
       "      'dc:description': 'The type of interactive data file rendered on the EDGAR website, H = .htm file, X = .xml file.'},\n",
       "     {'name': 'menucat',\n",
       "      'titles': ['Menu Category'],\n",
       "      'datatype': {'base': 'string', 'maxLength': 2},\n",
       "      'dc:description': 'If available, one of the menu categories as computed by the renderer: C=Cover, S=Statements, N=Notes, P=Policies, T=Tables, D=Details, O=Other, and U=Uncategorized.'},\n",
       "     {'name': 'shortname',\n",
       "      'titles': ['Short Name'],\n",
       "      'datatype': {'base': 'string', 'maxLength': 512},\n",
       "      'dc:description': 'The portion of the long name used in the renderer menu.'},\n",
       "     {'name': 'longname',\n",
       "      'titles': ['Long Name'],\n",
       "      'datatype': {'base': 'string', 'maxLength': 512},\n",
       "      'dc:description': 'The space-normalized text of the XBRL link \"definition\" element content.'},\n",
       "     {'name': 'roleuri',\n",
       "      'titles': ['Role URI'],\n",
       "      'datatype': {'base': 'string', 'maxLength': 255},\n",
       "      'dc:description': 'The XBRL \"roleuri\" of the role.'},\n",
       "     {'name': 'parentroleuri',\n",
       "      'titles': ['Parent Role URI'],\n",
       "      'datatype': {'base': 'string', 'maxLength': 255},\n",
       "      'dc:description': 'The XBRL roleuri of a role for which this role has a matching shortname prefix and a higher level menu category, as computed by the renderer.'},\n",
       "     {'name': 'parentreport',\n",
       "      'titles': ['Parent Report'],\n",
       "      'datatype': {'base': 'decimal', 'minInclusive': 0},\n",
       "      'dc:description': 'The value of the report field for the role where roleuri equals this parentroleuri.'},\n",
       "     {'name': 'ultparentrpt',\n",
       "      'titles': ['Ultimate Parent'],\n",
       "      'datatype': {'base': 'decimal',\n",
       "       'minInclusive': 0,\n",
       "       'maxInclusive': 32767},\n",
       "      'dc:description': 'The highest ancestor report reachable by following parentreport relationships. A note (menucat = N) is its own ultimate parent.'}],\n",
       "    'foreignKeys': [{'columnReference': 'adsh',\n",
       "      'reference': {'resource': 'sub.tsv', 'columnReference': 'adsh'}}]}},\n",
       "  {'url': 'pre.tsv',\n",
       "   'tableSchema': {'aboutUrl': 'readme.htm',\n",
       "    'primaryKey': ['adsh', 'report', 'line'],\n",
       "    'columns': [{'name': 'adsh',\n",
       "      'titles': ['Accession Number'],\n",
       "      'required': 'true',\n",
       "      'datatype': {'base': 'string', 'minLength': 20, 'maxLength': 20},\n",
       "      'dc:description': 'Accession Number. The 20-character string formed from the 18-digit number assigned by the Commission to each EDGAR submission.'},\n",
       "     {'name': 'report',\n",
       "      'titles': [],\n",
       "      'required': 'true',\n",
       "      'datatype': {'base': 'decimal', 'minInclusive': 0},\n",
       "      'dc:description': 'Represents the report grouping. The numeric value refers to the \"R file\" as computed by the renderer and posted on the EDGAR website. Note that in some situations the numbers skip.'},\n",
       "     {'name': 'line',\n",
       "      'titles': [],\n",
       "      'required': 'true',\n",
       "      'datatype': {'base': 'decimal', 'minInclusive': 0},\n",
       "      'dc:description': \"Represents the tag's presentation line order for a given report. Together with the statement and report field, presentation location, order and grouping can be derived.\"},\n",
       "     {'name': 'stmt',\n",
       "      'titles': ['Statement'],\n",
       "      'datatype': {'base': 'string', 'maxLength': 2},\n",
       "      'dc:description': 'The financial statement location to which the value of the \"report\" field pertains.'},\n",
       "     {'name': 'inpth',\n",
       "      'titles': ['Parenthentical'],\n",
       "      'required': 'true',\n",
       "      'datatype': {'base': 'decimal', 'minInclusive': 0, 'maxInclusive': 1},\n",
       "      'dc:description': '1 indicates that the value was presented \"parenthetically\" instead of in fields within the financial statements. For example: Receivables (net of allowance for bad debts of USD 200 in 2012) USD 700'},\n",
       "     {'name': 'tag',\n",
       "      'titles': ['Localname'],\n",
       "      'required': 'true',\n",
       "      'datatype': {'base': 'string', 'maxLength': 256},\n",
       "      'dc:description': 'The tag chosen by the filer for this line item.'},\n",
       "     {'name': 'version',\n",
       "      'titles': ['Namespace', 'Taxonomy'],\n",
       "      'required': 'true',\n",
       "      'datatype': {'base': 'string', 'maxLength': 20},\n",
       "      'dc:description': 'The taxonomy identifier if the tag is a standard tag, otherwise adsh.'},\n",
       "     {'name': 'prole',\n",
       "      'titles': ['Preferred Role'],\n",
       "      'datatype': {'base': 'string', 'maxLength': 50},\n",
       "      'dc:description': 'The XBRL link \"role\" of the preferred label, using only the portion of the role URI after the last \"/\".'},\n",
       "     {'name': 'plabel',\n",
       "      'titles': ['Label'],\n",
       "      'datatype': {'base': 'string', 'maxLength': 512},\n",
       "      'dc:description': 'The text presented on the line item, also known as a \"preferred\" label.'},\n",
       "     {'name': 'negating',\n",
       "      'titles': [],\n",
       "      'required': 'true',\n",
       "      'datatype': {'base': 'decimal', 'minInclusive': 0, 'maxInclusive': 1},\n",
       "      'dc:description': 'Flag to indicate whether the prole is treated as negating by the renderer.'}],\n",
       "    'foreignKeys': [{'columnReference': ['adsh', 'report'],\n",
       "      'reference': {'resource': 'ren.tsv',\n",
       "       'columnReference': ['adsh', 'report']}},\n",
       "     {'columnReference': ['tag', 'version'],\n",
       "      'reference': {'resource': 'tag.tsv',\n",
       "       'columnReference': ['tag', 'version']}}]}},\n",
       "  {'url': 'cal.tsv',\n",
       "   'tableSchema': {'aboutUrl': 'readme.htm',\n",
       "    'primaryKey': ['adsh', 'grp', 'arc'],\n",
       "    'columns': [{'name': 'adsh',\n",
       "      'titles': ['Accession Number'],\n",
       "      'required': 'true',\n",
       "      'datatype': {'base': 'string', 'minLength': 20, 'maxLength': 20},\n",
       "      'dc:description': 'Accession Number. The 20-character string formed from the 18-digit number assigned by the Commission to each EDGAR submission.'},\n",
       "     {'name': 'grp',\n",
       "      'titles': ['Group'],\n",
       "      'required': 'true',\n",
       "      'datatype': {'base': 'decimal', 'minInclusive': 0, 'maxInclusive': 255},\n",
       "      'dc:description': 'Sequential number for grouping arcs in a submission.'},\n",
       "     {'name': 'arc',\n",
       "      'titles': [],\n",
       "      'required': 'true',\n",
       "      'datatype': {'base': 'decimal', 'minInclusive': 255},\n",
       "      'dc:description': 'Sequential number for arcs within a group in a submission.'},\n",
       "     {'name': 'negative',\n",
       "      'titles': ['Negative Weight'],\n",
       "      'required': 'true',\n",
       "      'datatype': {'base': 'decimal', 'minInclusive': 0, 'maxInclusive': 1},\n",
       "      'dc:description': 'Indicates a weight of -1 (TRUE if the arc is negative), but typically +1 (FALSE).'},\n",
       "     {'name': 'ptag',\n",
       "      'titles': ['Parent Tag'],\n",
       "      'required': 'true',\n",
       "      'datatype': {'base': 'string', 'maxLength': 256},\n",
       "      'dc:description': 'The tag for the parent of the arc'},\n",
       "     {'name': 'pversion',\n",
       "      'titles': ['Parent Namespace'],\n",
       "      'required': 'true',\n",
       "      'datatype': {'base': 'string', 'maxLength': 20},\n",
       "      'dc:description': 'The version of the tag for the parent of the arc'},\n",
       "     {'name': 'ctag',\n",
       "      'titles': ['Child Tag'],\n",
       "      'required': 'true',\n",
       "      'datatype': {'base': 'string', 'maxLength': 255},\n",
       "      'dc:description': 'The tag for the child of the arc'},\n",
       "     {'name': 'cversion',\n",
       "      'titles': ['Child Namespace'],\n",
       "      'required': 'true',\n",
       "      'datatype': {'base': 'string', 'maxLength': 20},\n",
       "      'dc:description': 'The version of the tag for the child of the arc'}],\n",
       "    'foreignKeys': [{'columnReference': 'adsh',\n",
       "      'reference': {'resource': 'sub.tsv', 'columnReference': 'adsh'}},\n",
       "     {'columnReference': ['ptag', 'pversion'],\n",
       "      'reference': {'resource': 'tag.tsv',\n",
       "       'columnReference': ['tag', 'version']}},\n",
       "     {'columnReference': ['ctag', 'cversion'],\n",
       "      'reference': {'resource': 'tag.tsv',\n",
       "       'columnReference': ['tag', 'version']}}]}}]}"
      ]
     },
     "execution_count": 29,
     "metadata": {},
     "output_type": "execute_result"
    }
   ],
   "source": [
    "file = data_path / yr_dir / 'source' / f'{yr_dir.replace(\"_\", \"q\")}_notes-metadata.json'\n",
    "with file.open() as f:\n",
    "    data = json.load(f)\n",
    "\n",
    "data"
   ]
  },
  {
   "cell_type": "markdown",
   "metadata": {},
   "source": [
    "## Data Organization"
   ]
  },
  {
   "cell_type": "markdown",
   "metadata": {},
   "source": [
    "For each quarter, the FSN data is organized into eight file sets that contain information about submissions, numbers, taxonomy tags, presentation, and more. Each dataset consists of rows and fields and is provided as a tab-delimited text file:"
   ]
  },
  {
   "cell_type": "markdown",
   "metadata": {},
   "source": [
    "| File | Dataset      | Description                                                 |\n",
    "|------|--------------|-------------------------------------------------------------|\n",
    "| SUB  | Submission   | Identifies each XBRL submission by company, form, date, etc |\n",
    "| TAG  | Tag          | Defines and explains each taxonomy tag                      |\n",
    "| DIM  | Dimension    | Adds detail to numeric and plain text data                  |\n",
    "| NUM  | Numeric      | One row for each distinct data point in filing              |\n",
    "| TXT  | Plain Text   | Contains all non-numeric XBRL fields                        |\n",
    "| REN  | Rendering    | Information for rendering on SEC website                    |\n",
    "| PRE  | Presentation | Detail on tag and number presentation in primary statements |\n",
    "| CAL  | Calculation  | Shows arithmetic relationships among tags                   |"
   ]
  },
  {
   "cell_type": "markdown",
   "metadata": {},
   "source": [
    "## Submission Data"
   ]
  },
  {
   "cell_type": "markdown",
   "metadata": {},
   "source": [
    "The latest submission file contains around 6,500 entries."
   ]
  },
  {
   "cell_type": "code",
   "execution_count": 11,
   "metadata": {
    "ExecuteTime": {
     "end_time": "2020-06-17T10:24:35.263944Z",
     "start_time": "2020-06-17T10:24:34.965654Z"
    }
   },
   "outputs": [
    {
     "name": "stdout",
     "output_type": "stream",
     "text": [
      "<class 'pandas.core.frame.DataFrame'>\n",
      "RangeIndex: 6493 entries, 0 to 6492\n",
      "Data columns (total 40 columns):\n",
      " #   Column       Non-Null Count  Dtype  \n",
      "---  ------       --------------  -----  \n",
      " 0   adsh         6493 non-null   object \n",
      " 1   cik          6493 non-null   int64  \n",
      " 2   name         6493 non-null   object \n",
      " 3   sic          6492 non-null   float64\n",
      " 4   countryba    6482 non-null   object \n",
      " 5   stprba       5900 non-null   object \n",
      " 6   cityba       6482 non-null   object \n",
      " 7   zipba        6478 non-null   object \n",
      " 8   bas1         6482 non-null   object \n",
      " 9   bas2         2804 non-null   object \n",
      " 10  baph         6482 non-null   object \n",
      " 11  countryma    6448 non-null   object \n",
      " 12  stprma       5906 non-null   object \n",
      " 13  cityma       6448 non-null   object \n",
      " 14  zipma        6447 non-null   object \n",
      " 15  mas1         6448 non-null   object \n",
      " 16  mas2         2761 non-null   object \n",
      " 17  countryinc   5936 non-null   object \n",
      " 18  stprinc      5632 non-null   object \n",
      " 19  ein          6492 non-null   float64\n",
      " 20  former       3618 non-null   object \n",
      " 21  changed      3618 non-null   float64\n",
      " 22  afs          6480 non-null   object \n",
      " 23  wksi         6493 non-null   int64  \n",
      " 24  fye          6490 non-null   float64\n",
      " 25  form         6493 non-null   object \n",
      " 26  period       6493 non-null   int64  \n",
      " 27  fy           6375 non-null   float64\n",
      " 28  fp           6358 non-null   object \n",
      " 29  filed        6493 non-null   int64  \n",
      " 30  accepted     6493 non-null   object \n",
      " 31  prevrpt      6493 non-null   int64  \n",
      " 32  detail       6493 non-null   int64  \n",
      " 33  instance     6493 non-null   object \n",
      " 34  nciks        6493 non-null   int64  \n",
      " 35  aciks        130 non-null    object \n",
      " 36  pubfloatusd  639 non-null    float64\n",
      " 37  floatdate    640 non-null    float64\n",
      " 38  floataxis    3 non-null      object \n",
      " 39  floatmems    4 non-null      float64\n",
      "dtypes: float64(8), int64(7), object(25)\n",
      "memory usage: 2.0+ MB\n"
     ]
    }
   ],
   "source": [
    "sub = pd.read_parquet(data_path / '2018_3' / 'parquet' / 'sub.parquet')\n",
    "sub.info()"
   ]
  },
  {
   "cell_type": "markdown",
   "metadata": {},
   "source": [
    "### Get AAPL submission"
   ]
  },
  {
   "cell_type": "markdown",
   "metadata": {},
   "source": [
    "The submission dataset contains the unique identifiers required to retrieve the filings: the Central Index Key (CIK) and the Accession Number (adsh). The following shows some of the information about Apple's 2018Q1 10-Q filing:"
   ]
  },
  {
   "cell_type": "code",
   "execution_count": 17,
   "metadata": {
    "ExecuteTime": {
     "end_time": "2020-06-17T10:24:35.282027Z",
     "start_time": "2020-06-17T10:24:35.265241Z"
    },
    "scrolled": true
   },
   "outputs": [
    {
     "data": {
      "text/plain": [
       "name                    APPLE INC\n",
       "adsh         0000320193-18-000100\n",
       "cik                        320193\n",
       "name                    APPLE INC\n",
       "sic                          3571\n",
       "countryba                      US\n",
       "stprba                         CA\n",
       "cityba                  CUPERTINO\n",
       "zipba                       95014\n",
       "bas1           ONE APPLE PARK WAY\n",
       "form                         10-Q\n",
       "period                   20180630\n",
       "fy                           2018\n",
       "fp                             Q3\n",
       "filed                    20180801\n",
       "Name: 1101, dtype: object"
      ]
     },
     "execution_count": 17,
     "metadata": {},
     "output_type": "execute_result"
    }
   ],
   "source": [
    "name = 'APPLE INC'\n",
    "apple = sub[sub.name == name].T.dropna().squeeze()\n",
    "key_cols = ['name', 'adsh', 'cik', 'name', 'sic', 'countryba', 'stprba',\n",
    "            'cityba', 'zipba', 'bas1', 'form', 'period', 'fy', 'fp', 'filed']\n",
    "apple[key_cols]"
   ]
  },
  {
   "cell_type": "markdown",
   "metadata": {},
   "source": [
    "## Build AAPL fundamentals dataset"
   ]
  },
  {
   "cell_type": "markdown",
   "metadata": {},
   "source": [
    "Using the central index key, we can identify all historical quarterly filings available for Apple, and combine this information to obtain 26 Forms 10-Q and nine annual Forms 10-K."
   ]
  },
  {
   "cell_type": "markdown",
   "metadata": {},
   "source": [
    "### Get filings"
   ]
  },
  {
   "cell_type": "code",
   "execution_count": null,
   "metadata": {
    "ExecuteTime": {
     "end_time": "2020-06-17T10:24:36.521152Z",
     "start_time": "2020-06-17T10:24:35.283775Z"
    },
    "scrolled": true
   },
   "outputs": [],
   "source": [
    "aapl_subs = pd.DataFrame()\n",
    "for sub in data_path.glob('**/sub.parquet'):\n",
    "    sub = pd.read_parquet(sub)\n",
    "    aapl_sub = sub[(sub.cik.astype(int) == apple.cik) & (sub.form.isin(['10-Q', '10-K']))]\n",
    "    aapl_subs = pd.concat([aapl_subs, aapl_sub])"
   ]
  },
  {
   "cell_type": "markdown",
   "metadata": {},
   "source": [
    "We find 15 quarterly 10-Q and 4 annual 10-K reports:"
   ]
  },
  {
   "cell_type": "code",
   "execution_count": null,
   "metadata": {
    "ExecuteTime": {
     "end_time": "2020-06-17T10:24:36.543920Z",
     "start_time": "2020-06-17T10:24:36.522618Z"
    },
    "scrolled": true
   },
   "outputs": [],
   "source": [
    "aapl_subs.form.value_counts()"
   ]
  },
  {
   "cell_type": "markdown",
   "metadata": {},
   "source": [
    "### Get numerical filing data"
   ]
  },
  {
   "cell_type": "markdown",
   "metadata": {},
   "source": [
    "With the Accession Number for each filing, we can now rely on the taxonomies to select the appropriate XBRL tags (listed in the TAG file) from the NUM and TXT files to obtain the numerical or textual/footnote data points of interest."
   ]
  },
  {
   "cell_type": "markdown",
   "metadata": {},
   "source": [
    "First, let's extract all numerical data available from the 19 Apple filings:"
   ]
  },
  {
   "cell_type": "code",
   "execution_count": null,
   "metadata": {
    "ExecuteTime": {
     "end_time": "2020-06-17T10:26:39.700986Z",
     "start_time": "2020-06-17T10:24:36.545544Z"
    }
   },
   "outputs": [],
   "source": [
    "aapl_nums = pd.DataFrame()\n",
    "for num in data_path.glob('**/num.parquet'):\n",
    "    num = pd.read_parquet(num).drop('dimh', axis=1)\n",
    "    aapl_num = num[num.adsh.isin(aapl_subs.adsh)]\n",
    "    print(len(aapl_num))\n",
    "    aapl_nums = pd.concat([aapl_nums, aapl_num])\n",
    "aapl_nums.ddate = pd.to_datetime(aapl_nums.ddate, format='%Y%m%d')   \n",
    "aapl_nums.to_parquet(data_path / 'aapl_nums.parquet')"
   ]
  },
  {
   "cell_type": "markdown",
   "metadata": {},
   "source": [
    "In total, the nine years of filing history provide us with over 18,000 numerical values for AAPL."
   ]
  },
  {
   "cell_type": "code",
   "execution_count": null,
   "metadata": {
    "ExecuteTime": {
     "end_time": "2020-06-17T10:26:39.743882Z",
     "start_time": "2020-06-17T10:26:39.702611Z"
    },
    "scrolled": true
   },
   "outputs": [],
   "source": [
    "aapl_nums.info()"
   ]
  },
  {
   "cell_type": "markdown",
   "metadata": {},
   "source": [
    "## Create P/E Ratio from EPS and stock price data"
   ]
  },
  {
   "cell_type": "markdown",
   "metadata": {},
   "source": [
    "We can select a useful field, such as Earnings per Diluted Share (EPS), that we can combine with market data to calculate the popular Price/Earnings (P/E) valuation ratio."
   ]
  },
  {
   "cell_type": "code",
   "execution_count": null,
   "metadata": {
    "ExecuteTime": {
     "end_time": "2020-06-17T10:26:39.749424Z",
     "start_time": "2020-06-17T10:26:39.745293Z"
    }
   },
   "outputs": [],
   "source": [
    "stock_split = 7\n",
    "split_date = pd.to_datetime('20140604')\n",
    "split_date"
   ]
  },
  {
   "cell_type": "markdown",
   "metadata": {},
   "source": [
    "We do need to take into account, however, that Apple split its stock 7:1 on June 4, 2014, and Adjusted Earnings per Share before the split to make earnings comparable, as illustrated in the following code block:"
   ]
  },
  {
   "cell_type": "code",
   "execution_count": null,
   "metadata": {
    "ExecuteTime": {
     "end_time": "2020-06-17T10:26:39.960502Z",
     "start_time": "2020-06-17T10:26:39.750697Z"
    }
   },
   "outputs": [],
   "source": [
    "# Filter by tag; keep only values measuring 1 quarter\n",
    "eps = aapl_nums[(aapl_nums.tag == 'EarningsPerShareDiluted')\n",
    "                & (aapl_nums.qtrs == 1)].drop('tag', axis=1)\n",
    "\n",
    "# Keep only most recent data point from each filing\n",
    "eps = eps.groupby('adsh').apply(lambda x: x.nlargest(n=1, columns=['ddate']))\n",
    "\n",
    "# Adjust earnings prior to stock split downward\n",
    "eps.loc[eps.ddate < split_date,'value'] = eps.loc[eps.ddate < split_date, 'value'].div(7)\n",
    "eps = eps[['ddate', 'value']].set_index('ddate').squeeze().sort_index()\n",
    "eps = eps.rolling(4,min_periods=4).sum().dropna()"
   ]
  },
  {
   "cell_type": "code",
   "execution_count": null,
   "metadata": {
    "ExecuteTime": {
     "end_time": "2020-06-17T10:26:40.874010Z",
     "start_time": "2020-06-17T10:26:39.961904Z"
    }
   },
   "outputs": [],
   "source": [
    "eps.plot(lw=2, figsize=(14, 6), title='Diluted Earnings per Share')\n",
    "plt.xlabel('')\n",
    "plt.savefig('diluted eps', dps=300);"
   ]
  },
  {
   "cell_type": "code",
   "execution_count": null,
   "metadata": {
    "ExecuteTime": {
     "end_time": "2020-06-17T10:26:41.388519Z",
     "start_time": "2020-06-17T10:26:40.880740Z"
    }
   },
   "outputs": [],
   "source": [
    "symbol = 'AAPL.US'\n",
    "\n",
    "aapl_stock = (web.\n",
    "              DataReader(symbol, 'quandl', start=eps.index.min())\n",
    "              .resample('D')\n",
    "              .last()\n",
    "             .loc['2014':eps.index.max()])\n",
    "aapl_stock.info()"
   ]
  },
  {
   "cell_type": "code",
   "execution_count": null,
   "metadata": {
    "ExecuteTime": {
     "end_time": "2020-06-17T10:26:42.638189Z",
     "start_time": "2020-06-17T10:26:41.391885Z"
    }
   },
   "outputs": [],
   "source": [
    "pe = aapl_stock.AdjClose.to_frame('price').join(eps.to_frame('eps'))\n",
    "pe = pe.fillna(method='ffill').dropna()\n",
    "pe['P/E Ratio'] = pe.price.div(pe.eps)\n",
    "pe['P/E Ratio'].plot(lw=2, figsize=(14, 6), title='TTM P/E Ratio');"
   ]
  },
  {
   "cell_type": "code",
   "execution_count": null,
   "metadata": {
    "ExecuteTime": {
     "end_time": "2020-06-17T10:26:42.683358Z",
     "start_time": "2020-06-17T10:26:42.669431Z"
    }
   },
   "outputs": [],
   "source": [
    "pe.info()"
   ]
  },
  {
   "cell_type": "code",
   "execution_count": null,
   "metadata": {
    "ExecuteTime": {
     "end_time": "2020-06-17T10:26:45.368067Z",
     "start_time": "2020-06-17T10:26:42.696994Z"
    }
   },
   "outputs": [],
   "source": [
    "axes = pe.plot(subplots=True, figsize=(16,8), legend=False, lw=2)\n",
    "axes[0].set_title('Adj. Close Price')\n",
    "axes[1].set_title('Diluted Earnings per Share')\n",
    "axes[2].set_title('Trailing P/E Ratio')\n",
    "plt.tight_layout();"
   ]
  },
  {
   "cell_type": "markdown",
   "metadata": {},
   "source": [
    "## Explore Additional Fields"
   ]
  },
  {
   "cell_type": "markdown",
   "metadata": {},
   "source": [
    "The field `tag` references values defined in the taxonomy:"
   ]
  },
  {
   "cell_type": "code",
   "execution_count": null,
   "metadata": {
    "ExecuteTime": {
     "end_time": "2020-06-17T10:26:45.384722Z",
     "start_time": "2020-06-17T10:26:45.373605Z"
    }
   },
   "outputs": [],
   "source": [
    "aapl_nums.tag.value_counts()"
   ]
  },
  {
   "cell_type": "markdown",
   "metadata": {},
   "source": [
    "We can select values of interest and track their value or use them as inputs to compute fundamental metrics like the Dividend/Share ratio."
   ]
  },
  {
   "cell_type": "markdown",
   "metadata": {},
   "source": [
    "### Dividends per Share"
   ]
  },
  {
   "cell_type": "code",
   "execution_count": null,
   "metadata": {
    "ExecuteTime": {
     "end_time": "2020-06-17T10:26:45.399406Z",
     "start_time": "2020-06-17T10:26:45.386515Z"
    },
    "scrolled": true
   },
   "outputs": [],
   "source": [
    "fields = ['EarningsPerShareDiluted',\n",
    "          'PaymentsOfDividendsCommonStock',\n",
    "          'WeightedAverageNumberOfDilutedSharesOutstanding',\n",
    "          'OperatingIncomeLoss',\n",
    "          'NetIncomeLoss',\n",
    "          'GrossProfit']"
   ]
  },
  {
   "cell_type": "code",
   "execution_count": null,
   "metadata": {
    "ExecuteTime": {
     "end_time": "2020-06-17T10:26:45.761291Z",
     "start_time": "2020-06-17T10:26:45.400903Z"
    }
   },
   "outputs": [],
   "source": [
    "dividends = (aapl_nums\n",
    "             .loc[aapl_nums.tag == 'PaymentsOfDividendsCommonStock', ['ddate', 'value']]\n",
    "             .groupby('ddate')\n",
    "             .mean())\n",
    "shares = (aapl_nums\n",
    "          .loc[aapl_nums.tag == 'WeightedAverageNumberOfDilutedSharesOutstanding', ['ddate', 'value']]\n",
    "          .drop_duplicates()\n",
    "          .groupby('ddate')\n",
    "          .mean())\n",
    "df = dividends.div(shares).dropna()\n",
    "ax = df.plot.bar(figsize=(14, 5), title='Dividends per Share', legend=False)\n",
    "ax.xaxis.set_major_formatter(mticker.FixedFormatter(df.index.strftime('%Y-%m')))"
   ]
  },
  {
   "cell_type": "markdown",
   "metadata": {},
   "source": [
    "## Bonus: Textual Information"
   ]
  },
  {
   "cell_type": "code",
   "execution_count": null,
   "metadata": {
    "ExecuteTime": {
     "end_time": "2020-06-17T10:26:47.996396Z",
     "start_time": "2020-06-17T10:26:45.773445Z"
    },
    "scrolled": true
   },
   "outputs": [],
   "source": [
    "txt = pd.read_parquet(data_path / '2016_2' / 'parquet' /  'txt.parquet')"
   ]
  },
  {
   "cell_type": "markdown",
   "metadata": {},
   "source": [
    "AAPL's adsh is not avaialble in the txt file but you can obtain notes from the financial statesments here:"
   ]
  },
  {
   "cell_type": "code",
   "execution_count": null,
   "metadata": {
    "ExecuteTime": {
     "end_time": "2020-06-17T10:26:48.023203Z",
     "start_time": "2020-06-17T10:26:47.997594Z"
    }
   },
   "outputs": [],
   "source": [
    "txt.head()"
   ]
  },
  {
   "cell_type": "code",
   "execution_count": null,
   "metadata": {},
   "outputs": [],
   "source": []
  }
 ],
 "metadata": {
  "kernelspec": {
   "display_name": "Python 3",
   "language": "python",
   "name": "python3"
  },
  "language_info": {
   "codemirror_mode": {
    "name": "ipython",
    "version": 3
   },
   "file_extension": ".py",
   "mimetype": "text/x-python",
   "name": "python",
   "nbconvert_exporter": "python",
   "pygments_lexer": "ipython3",
   "version": "3.7.6"
  },
  "toc": {
   "base_numbering": 1,
   "nav_menu": {},
   "number_sections": true,
   "sideBar": true,
   "skip_h1_title": false,
   "title_cell": "Table of Contents",
   "title_sidebar": "Contents",
   "toc_cell": false,
   "toc_position": {
    "height": "calc(100% - 180px)",
    "left": "10px",
    "top": "150px",
    "width": "512px"
   },
   "toc_section_display": true,
   "toc_window_display": false
  }
 },
 "nbformat": 4,
 "nbformat_minor": 4
}
