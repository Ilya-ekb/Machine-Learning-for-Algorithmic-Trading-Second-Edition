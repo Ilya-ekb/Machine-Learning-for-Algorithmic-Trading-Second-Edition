{
 "cells": [
  {
   "cell_type": "markdown",
   "metadata": {},
   "source": [
    "# Download and store data"
   ]
  },
  {
   "cell_type": "markdown",
   "metadata": {},
   "source": [
    "This notebook contains information on downloading the Quandl Wiki stock prices and a few other sources that we use throughout the book. "
   ]
  },
  {
   "cell_type": "markdown",
   "metadata": {},
   "source": [
    "## Imports & Settings"
   ]
  },
  {
   "cell_type": "code",
   "execution_count": 1,
   "metadata": {
    "ExecuteTime": {
     "end_time": "2020-06-18T14:32:07.092623Z",
     "start_time": "2020-06-18T14:32:07.090885Z"
    }
   },
   "outputs": [],
   "source": [
    "import warnings\n",
    "warnings.filterwarnings('ignore')"
   ]
  },
  {
   "cell_type": "code",
   "execution_count": 30,
   "metadata": {
    "ExecuteTime": {
     "end_time": "2020-06-18T14:32:07.263130Z",
     "start_time": "2020-06-18T14:32:07.259861Z"
    }
   },
   "outputs": [],
   "source": [
    "from pathlib import Path\n",
    "from time import sleep\n",
    "import requests\n",
    "from io import BytesIO\n",
    "from zipfile import ZipFile, BadZipFile\n",
    "\n",
    "import numpy as np\n",
    "import pandas as pd\n",
    "import pandas_datareader.data as web\n",
    "from sklearn.datasets import fetch_openml\n",
    "from selenium import webdriver\n",
    "pd.set_option('display.expand_frame_repr', False)"
   ]
  },
  {
   "cell_type": "markdown",
   "metadata": {},
   "source": [
    "## Set Data Store path"
   ]
  },
  {
   "cell_type": "markdown",
   "metadata": {},
   "source": [
    "Modify path if you would like to store the data elsewhere and change the notebooks accordingly"
   ]
  },
  {
   "cell_type": "code",
   "execution_count": 3,
   "metadata": {
    "ExecuteTime": {
     "end_time": "2020-06-19T02:27:54.832609Z",
     "start_time": "2020-06-19T02:27:54.824778Z"
    }
   },
   "outputs": [],
   "source": [
    "DATA_STORE = Path('assets.h5')"
   ]
  },
  {
   "cell_type": "markdown",
   "metadata": {},
   "source": [
    "## Quandl Wiki Prices"
   ]
  },
  {
   "cell_type": "markdown",
   "metadata": {},
   "source": [
    "[Quandl](https://www.quandl.com/) makes available a [dataset](https://www.quandl.com/databases/WIKIP/documentation) with stock prices, dividends and splits for 3000 US publicly-traded companies. Quandl decided to discontinue support in favor of its commercial offerings but the historical data are still useful to demonstrate the application of the machine learning solutions in the book, just ensure you implement your own algorithms on current data.\n",
    "\n",
    "> As of April 11, 2018 this data feed is no longer actively supported by the Quandl community. We will continue to host this data feed on Quandl, but we do not recommend using it for investment or analysis."
   ]
  },
  {
   "cell_type": "markdown",
   "metadata": {},
   "source": [
    "1. Follow the instructions to create a free [Quandl]([Quandl](https://www.quandl.com/)) account\n",
    "2. [Download](https://www.quandl.com/databases/WIKIP/usage/export) the entire WIKI/PRICES data\n",
    "3. Extract the .zip file,\n",
    "4. Move to this directory and rename to wiki_prices.csv\n",
    "5. Run the below code to store in fast HDF format (see [Chapter 02 on Market & Fundamental Data](../02_market_and_fundamental_data) for details)."
   ]
  },
  {
   "cell_type": "code",
   "execution_count": 4,
   "metadata": {
    "ExecuteTime": {
     "end_time": "2020-06-16T21:38:46.759327Z",
     "start_time": "2020-06-16T21:37:48.398856Z"
    }
   },
   "outputs": [
    {
     "name": "stdout",
     "output_type": "stream",
     "text": [
      "<class 'pandas.core.frame.DataFrame'>\n",
      "MultiIndex: 15389314 entries, (Timestamp('1962-01-02 00:00:00'), 'ARNC') to (Timestamp('2018-03-27 00:00:00'), 'ZUMZ')\n",
      "Data columns (total 12 columns):\n",
      " #   Column       Non-Null Count     Dtype  \n",
      "---  ------       --------------     -----  \n",
      " 0   open         15388776 non-null  float64\n",
      " 1   high         15389259 non-null  float64\n",
      " 2   low          15389259 non-null  float64\n",
      " 3   close        15389313 non-null  float64\n",
      " 4   volume       15389314 non-null  float64\n",
      " 5   ex-dividend  15389314 non-null  float64\n",
      " 6   split_ratio  15389313 non-null  float64\n",
      " 7   adj_open     15388776 non-null  float64\n",
      " 8   adj_high     15389259 non-null  float64\n",
      " 9   adj_low      15389259 non-null  float64\n",
      " 10  adj_close    15389313 non-null  float64\n",
      " 11  adj_volume   15389314 non-null  float64\n",
      "dtypes: float64(12)\n",
      "memory usage: 1.4+ GB\n",
      "None\n"
     ]
    }
   ],
   "source": [
    "df = (pd.read_csv('wiki_prices.csv',\n",
    "                 parse_dates=['date'],\n",
    "                 index_col=['date', 'ticker'],\n",
    "                 infer_datetime_format=True)\n",
    "     .sort_index())\n",
    "\n",
    "print(df.info(null_counts=True))\n",
    "with pd.HDFStore(DATA_STORE) as store:\n",
    "    store.put('quandl/wiki/prices', df)"
   ]
  },
  {
   "cell_type": "markdown",
   "metadata": {},
   "source": [
    "### Wiki Prices Metadata"
   ]
  },
  {
   "cell_type": "markdown",
   "metadata": {},
   "source": [
    "As of writing, the following instructions no longer work because Quandl changed its API:\n",
    "\n",
    "> 1. Follow the instructions to create a free [Quandl]([Quandl](https://www.quandl.com/)) account if you haven't done so yet\n",
    "> 2. Find link to download wiki metadata under Companies](https://www.quandl.com/databases/WIKIP/documentation) or use the download link with your API_KEY: https://www.quandl.com/api/v3/databases/WIKI/metadata?api_key=<API_KEY>\n",
    "> 3. Extract the .zip file,\n",
    "> 4. Move to this directory and rename to wiki_stocks.csv\n",
    "> 5. Run the following code to store in fast HDF format"
   ]
  },
  {
   "cell_type": "markdown",
   "metadata": {},
   "source": [
    "Instead, load the file `wiki_stocks.csv` as described and store in HDF5 format."
   ]
  },
  {
   "cell_type": "code",
   "execution_count": 5,
   "metadata": {},
   "outputs": [
    {
     "name": "stdout",
     "output_type": "stream",
     "text": [
      "<class 'pandas.core.frame.DataFrame'>\n",
      "RangeIndex: 3199 entries, 0 to 3198\n",
      "Data columns (total 2 columns):\n",
      " #   Column  Non-Null Count  Dtype \n",
      "---  ------  --------------  ----- \n",
      " 0   code    3199 non-null   object\n",
      " 1   name    3199 non-null   object\n",
      "dtypes: object(2)\n",
      "memory usage: 50.1+ KB\n",
      "None\n"
     ]
    }
   ],
   "source": [
    "df = pd.read_csv('wiki_stocks.csv')\n",
    "# no longer needed\n",
    "# df = pd.concat([df.loc[:, 'code'].str.strip(),\n",
    "#                 df.loc[:, 'name'].str.split('(', expand=True)[0].str.strip().to_frame('name')], axis=1)\n",
    "\n",
    "print(df.info(null_counts=True))\n",
    "with pd.HDFStore(DATA_STORE) as store:\n",
    "    store.put('quandl/wiki/stocks', df)"
   ]
  },
  {
   "cell_type": "markdown",
   "metadata": {},
   "source": [
    "## S&P 500 Prices"
   ]
  },
  {
   "cell_type": "markdown",
   "metadata": {},
   "source": [
    "The following code downloads historical S&P 500 prices from FRED (only last 10 years of daily data is freely available)"
   ]
  },
  {
   "cell_type": "code",
   "execution_count": 6,
   "metadata": {},
   "outputs": [
    {
     "name": "stdout",
     "output_type": "stream",
     "text": [
      "<class 'pandas.core.frame.DataFrame'>\n",
      "DatetimeIndex: 2609 entries, 2011-02-03 to 2021-02-02\n",
      "Data columns (total 1 columns):\n",
      " #   Column  Non-Null Count  Dtype  \n",
      "---  ------  --------------  -----  \n",
      " 0   close   2516 non-null   float64\n",
      "dtypes: float64(1)\n",
      "memory usage: 40.8 KB\n",
      "None\n"
     ]
    }
   ],
   "source": [
    "df = web.DataReader(name='SP500', data_source='fred', start=2009).squeeze().to_frame('close')\n",
    "print(df.info())\n",
    "with pd.HDFStore(DATA_STORE) as store:\n",
    "    store.put('sp500/fred', df)"
   ]
  },
  {
   "cell_type": "markdown",
   "metadata": {},
   "source": [
    "Alternatively, download S&P500 data from [stooq.com](https://stooq.com/q/?s=%5Espx&c=1d&t=l&a=lg&b=0); at the time of writing the data was available since 1789. You can switch from Polish to English on the lower right-hand side.\n",
    "\n",
    "We store the data from 1950-2020:"
   ]
  },
  {
   "cell_type": "code",
   "execution_count": 7,
   "metadata": {
    "ExecuteTime": {
     "end_time": "2020-06-16T21:42:08.524471Z",
     "start_time": "2020-06-16T21:42:08.415664Z"
    }
   },
   "outputs": [
    {
     "name": "stdout",
     "output_type": "stream",
     "text": [
      "<class 'pandas.core.frame.DataFrame'>\n",
      "DatetimeIndex: 17700 entries, 1950-01-03 to 2019-12-31\n",
      "Data columns (total 5 columns):\n",
      " #   Column  Non-Null Count  Dtype  \n",
      "---  ------  --------------  -----  \n",
      " 0   open    17700 non-null  float64\n",
      " 1   high    17700 non-null  float64\n",
      " 2   low     17700 non-null  float64\n",
      " 3   close   17700 non-null  float64\n",
      " 4   volume  17700 non-null  float64\n",
      "dtypes: float64(5)\n",
      "memory usage: 829.7 KB\n",
      "None\n"
     ]
    }
   ],
   "source": [
    "sp500_stooq = (pd.read_csv('^spx_d.csv', index_col=0,\n",
    "                     parse_dates=True).loc['1950':'2019'].rename(columns=str.lower))\n",
    "print(sp500_stooq.info())"
   ]
  },
  {
   "cell_type": "code",
   "execution_count": 8,
   "metadata": {
    "ExecuteTime": {
     "end_time": "2020-06-16T21:42:09.567451Z",
     "start_time": "2020-06-16T21:42:09.556832Z"
    }
   },
   "outputs": [],
   "source": [
    "with pd.HDFStore(DATA_STORE) as store:\n",
    "    store.put('sp500/stooq', sp500_stooq)"
   ]
  },
  {
   "cell_type": "markdown",
   "metadata": {},
   "source": [
    "### S&P 500 Constituents"
   ]
  },
  {
   "cell_type": "markdown",
   "metadata": {},
   "source": [
    "The following code downloads the current S&P 500 constituents from [Wikipedia](https://en.wikipedia.org/wiki/List_of_S%26P_500_companies)."
   ]
  },
  {
   "cell_type": "code",
   "execution_count": 9,
   "metadata": {
    "ExecuteTime": {
     "end_time": "2020-06-17T10:50:19.998830Z",
     "start_time": "2020-06-17T10:50:18.784120Z"
    }
   },
   "outputs": [],
   "source": [
    "url = 'https://en.wikipedia.org/wiki/List_of_S%26P_500_companies'\n",
    "df = pd.read_html(url, header=0)[0]"
   ]
  },
  {
   "cell_type": "code",
   "execution_count": 10,
   "metadata": {
    "ExecuteTime": {
     "end_time": "2020-06-17T10:50:21.745331Z",
     "start_time": "2020-06-17T10:50:21.724637Z"
    }
   },
   "outputs": [
    {
     "data": {
      "text/html": [
       "<div>\n",
       "<style scoped>\n",
       "    .dataframe tbody tr th:only-of-type {\n",
       "        vertical-align: middle;\n",
       "    }\n",
       "\n",
       "    .dataframe tbody tr th {\n",
       "        vertical-align: top;\n",
       "    }\n",
       "\n",
       "    .dataframe thead th {\n",
       "        text-align: right;\n",
       "    }\n",
       "</style>\n",
       "<table border=\"1\" class=\"dataframe\">\n",
       "  <thead>\n",
       "    <tr style=\"text-align: right;\">\n",
       "      <th></th>\n",
       "      <th>Symbol</th>\n",
       "      <th>Security</th>\n",
       "      <th>SEC filings</th>\n",
       "      <th>GICS Sector</th>\n",
       "      <th>GICS Sub-Industry</th>\n",
       "      <th>Headquarters Location</th>\n",
       "      <th>Date first added</th>\n",
       "      <th>CIK</th>\n",
       "      <th>Founded</th>\n",
       "    </tr>\n",
       "  </thead>\n",
       "  <tbody>\n",
       "    <tr>\n",
       "      <th>0</th>\n",
       "      <td>MMM</td>\n",
       "      <td>3M Company</td>\n",
       "      <td>reports</td>\n",
       "      <td>Industrials</td>\n",
       "      <td>Industrial Conglomerates</td>\n",
       "      <td>St. Paul, Minnesota</td>\n",
       "      <td>1976-08-09</td>\n",
       "      <td>66740</td>\n",
       "      <td>1902</td>\n",
       "    </tr>\n",
       "    <tr>\n",
       "      <th>1</th>\n",
       "      <td>ABT</td>\n",
       "      <td>Abbott Laboratories</td>\n",
       "      <td>reports</td>\n",
       "      <td>Health Care</td>\n",
       "      <td>Health Care Equipment</td>\n",
       "      <td>North Chicago, Illinois</td>\n",
       "      <td>1964-03-31</td>\n",
       "      <td>1800</td>\n",
       "      <td>1888</td>\n",
       "    </tr>\n",
       "    <tr>\n",
       "      <th>2</th>\n",
       "      <td>ABBV</td>\n",
       "      <td>AbbVie Inc.</td>\n",
       "      <td>reports</td>\n",
       "      <td>Health Care</td>\n",
       "      <td>Pharmaceuticals</td>\n",
       "      <td>North Chicago, Illinois</td>\n",
       "      <td>2012-12-31</td>\n",
       "      <td>1551152</td>\n",
       "      <td>2013 (1888)</td>\n",
       "    </tr>\n",
       "    <tr>\n",
       "      <th>3</th>\n",
       "      <td>ABMD</td>\n",
       "      <td>ABIOMED Inc</td>\n",
       "      <td>reports</td>\n",
       "      <td>Health Care</td>\n",
       "      <td>Health Care Equipment</td>\n",
       "      <td>Danvers, Massachusetts</td>\n",
       "      <td>2018-05-31</td>\n",
       "      <td>815094</td>\n",
       "      <td>1981</td>\n",
       "    </tr>\n",
       "    <tr>\n",
       "      <th>4</th>\n",
       "      <td>ACN</td>\n",
       "      <td>Accenture plc</td>\n",
       "      <td>reports</td>\n",
       "      <td>Information Technology</td>\n",
       "      <td>IT Consulting &amp; Other Services</td>\n",
       "      <td>Dublin, Ireland</td>\n",
       "      <td>2011-07-06</td>\n",
       "      <td>1467373</td>\n",
       "      <td>1989</td>\n",
       "    </tr>\n",
       "  </tbody>\n",
       "</table>\n",
       "</div>"
      ],
      "text/plain": [
       "  Symbol             Security SEC filings             GICS Sector               GICS Sub-Industry    Headquarters Location Date first added      CIK      Founded\n",
       "0    MMM           3M Company     reports             Industrials        Industrial Conglomerates      St. Paul, Minnesota       1976-08-09    66740         1902\n",
       "1    ABT  Abbott Laboratories     reports             Health Care           Health Care Equipment  North Chicago, Illinois       1964-03-31     1800         1888\n",
       "2   ABBV          AbbVie Inc.     reports             Health Care                 Pharmaceuticals  North Chicago, Illinois       2012-12-31  1551152  2013 (1888)\n",
       "3   ABMD          ABIOMED Inc     reports             Health Care           Health Care Equipment   Danvers, Massachusetts       2018-05-31   815094         1981\n",
       "4    ACN        Accenture plc     reports  Information Technology  IT Consulting & Other Services          Dublin, Ireland       2011-07-06  1467373         1989"
      ]
     },
     "execution_count": 10,
     "metadata": {},
     "output_type": "execute_result"
    }
   ],
   "source": [
    "df.head()"
   ]
  },
  {
   "cell_type": "code",
   "execution_count": 11,
   "metadata": {
    "ExecuteTime": {
     "end_time": "2020-06-17T10:51:06.628859Z",
     "start_time": "2020-06-17T10:51:06.621125Z"
    }
   },
   "outputs": [],
   "source": [
    "df.columns = ['ticker', 'name', 'sec_filings', 'gics_sector', 'gics_sub_industry',\n",
    "              'location', 'first_added', 'cik', 'founded']\n",
    "df = df.drop('sec_filings', axis=1).set_index('ticker')"
   ]
  },
  {
   "cell_type": "code",
   "execution_count": 12,
   "metadata": {
    "ExecuteTime": {
     "end_time": "2020-06-17T10:51:14.523579Z",
     "start_time": "2020-06-17T10:51:14.515004Z"
    }
   },
   "outputs": [
    {
     "name": "stdout",
     "output_type": "stream",
     "text": [
      "<class 'pandas.core.frame.DataFrame'>\n",
      "Index: 505 entries, MMM to ZTS\n",
      "Data columns (total 7 columns):\n",
      " #   Column             Non-Null Count  Dtype \n",
      "---  ------             --------------  ----- \n",
      " 0   name               505 non-null    object\n",
      " 1   gics_sector        505 non-null    object\n",
      " 2   gics_sub_industry  505 non-null    object\n",
      " 3   location           505 non-null    object\n",
      " 4   first_added        450 non-null    object\n",
      " 5   cik                505 non-null    int64 \n",
      " 6   founded            505 non-null    object\n",
      "dtypes: int64(1), object(6)\n",
      "memory usage: 31.6+ KB\n",
      "None\n"
     ]
    }
   ],
   "source": [
    "print(df.info())"
   ]
  },
  {
   "cell_type": "code",
   "execution_count": 13,
   "metadata": {
    "ExecuteTime": {
     "end_time": "2020-06-17T10:51:17.814771Z",
     "start_time": "2020-06-17T10:51:17.788608Z"
    }
   },
   "outputs": [],
   "source": [
    "with pd.HDFStore(DATA_STORE) as store:\n",
    "    store.put('sp500/stocks', df)"
   ]
  },
  {
   "cell_type": "markdown",
   "metadata": {},
   "source": [
    "## Metadata on US-traded companies"
   ]
  },
  {
   "cell_type": "markdown",
   "metadata": {},
   "source": [
    "The following downloads several attributes for [companies](https://www.nasdaq.com/screening/companies-by-name.aspx) traded on NASDAQ, AMEX and NYSE"
   ]
  },
  {
   "cell_type": "code",
   "execution_count": 60,
   "metadata": {},
   "outputs": [],
   "source": [
    "url = 'https://old.nasdaq.com/screening/companies-by-name.aspx?letter=0&exchange={}&render=download'\n",
    "exchanges = ['NASDAQ', 'AMEX', 'NYSE']\n",
    "filePath = '/mnt/Project/Machine-Learning-for-Algorithmic-Trading-Second-Edition/data/nasdaq'\n",
    "\n",
    "\n",
    "\n",
    "profile = webdriver.FirefoxProfile()\n",
    "profile.set_preference(\"browser.download.manager.closeWhenDone\", False)\n",
    "profile.set_preference(\"browser.download.manager.focusWhenStarting\", False)\n",
    "profile.set_preference('browser.download.folderList', 2) # custom location\n",
    "profile.set_preference('browser.download.manager.showWhenStarting', False)\n",
    "profile.set_preference('browser.download.dir', filePath)\n",
    "profile.set_preference('browser.helperApps.neverAsk.saveToDisk', 'text/csv')\n",
    "\n",
    "if(len(list(Path(filePath).glob('**/*.csv')))<3):\n",
    "    i = 0\n",
    "    driver = webdriver.Firefox(profile)\n",
    "    while i < len(exchanges):\n",
    "        driver.get(url.format(exchanges[i]))\n",
    "        f=driver.find_element_by_css_selector('.ns-download-1').click()\n",
    "        sleep(10)\n",
    "        print(f'{exchanges[i]} downloaded')\n",
    "        i+=1\n",
    "    driver.close()"
   ]
  },
  {
   "cell_type": "code",
   "execution_count": 94,
   "metadata": {},
   "outputs": [
    {
     "name": "stdout",
     "output_type": "stream",
     "text": [
      "<class 'pandas.core.frame.DataFrame'>\n",
      "Index: 7343 entries, AACG to ZYME\n",
      "Data columns (total 10 columns):\n",
      " #   Column      Non-Null Count  Dtype  \n",
      "---  ------      --------------  -----  \n",
      " 0   name        7343 non-null   object \n",
      " 1   last sale   6488 non-null   object \n",
      " 2   net change  6488 non-null   float64\n",
      " 3   % change    6486 non-null   object \n",
      " 4   marketcap   6462 non-null   float64\n",
      " 5   country     6270 non-null   object \n",
      " 6   ipo year    3841 non-null   float64\n",
      " 7   volume      7343 non-null   int64  \n",
      " 8   sector      5851 non-null   object \n",
      " 9   industry    5851 non-null   object \n",
      "dtypes: float64(3), int64(1), object(6)\n",
      "memory usage: 631.0+ KB\n",
      "None\n"
     ]
    }
   ],
   "source": [
    "df = pd.concat([pd.read_csv(f) for f in Path(filePath).glob('**/*.csv')]).dropna(how='all', axis=1)\n",
    "df = df.rename(columns=str.lower).set_index('symbol')\n",
    "df = df[~df.index.duplicated()]\n",
    "df.rename(columns={'market cap': 'marketcap'}, inplace=True)\n",
    "print(df.info()) "
   ]
  },
  {
   "cell_type": "code",
   "execution_count": 98,
   "metadata": {},
   "outputs": [
    {
     "data": {
      "text/html": [
       "<div>\n",
       "<style scoped>\n",
       "    .dataframe tbody tr th:only-of-type {\n",
       "        vertical-align: middle;\n",
       "    }\n",
       "\n",
       "    .dataframe tbody tr th {\n",
       "        vertical-align: top;\n",
       "    }\n",
       "\n",
       "    .dataframe thead th {\n",
       "        text-align: right;\n",
       "    }\n",
       "</style>\n",
       "<table border=\"1\" class=\"dataframe\">\n",
       "  <thead>\n",
       "    <tr style=\"text-align: right;\">\n",
       "      <th></th>\n",
       "      <th>name</th>\n",
       "      <th>last sale</th>\n",
       "      <th>net change</th>\n",
       "      <th>% change</th>\n",
       "      <th>marketcap</th>\n",
       "      <th>country</th>\n",
       "      <th>ipo year</th>\n",
       "      <th>volume</th>\n",
       "      <th>sector</th>\n",
       "      <th>industry</th>\n",
       "    </tr>\n",
       "    <tr>\n",
       "      <th>symbol</th>\n",
       "      <th></th>\n",
       "      <th></th>\n",
       "      <th></th>\n",
       "      <th></th>\n",
       "      <th></th>\n",
       "      <th></th>\n",
       "      <th></th>\n",
       "      <th></th>\n",
       "      <th></th>\n",
       "      <th></th>\n",
       "    </tr>\n",
       "  </thead>\n",
       "  <tbody>\n",
       "    <tr>\n",
       "      <th>AACG</th>\n",
       "      <td>ATA Creativity Global American Depositary Shares</td>\n",
       "      <td>$1.40</td>\n",
       "      <td>0.0000</td>\n",
       "      <td>0.00%</td>\n",
       "      <td>4.389070e+07</td>\n",
       "      <td>China</td>\n",
       "      <td>NaN</td>\n",
       "      <td>13528</td>\n",
       "      <td>Consumer Services</td>\n",
       "      <td>Other Consumer Services</td>\n",
       "    </tr>\n",
       "    <tr>\n",
       "      <th>AACQ</th>\n",
       "      <td>Artius Acquisition Inc. Class A Common Stock</td>\n",
       "      <td>$11.05</td>\n",
       "      <td>0.2200</td>\n",
       "      <td>2.031%</td>\n",
       "      <td>1.000716e+09</td>\n",
       "      <td>United States</td>\n",
       "      <td>2020.0</td>\n",
       "      <td>706406</td>\n",
       "      <td>Finance</td>\n",
       "      <td>Business Services</td>\n",
       "    </tr>\n",
       "    <tr>\n",
       "      <th>AACQU</th>\n",
       "      <td>Artius Acquisition Inc. Unit</td>\n",
       "      <td>$11.90</td>\n",
       "      <td>0.2600</td>\n",
       "      <td>2.234%</td>\n",
       "      <td>0.000000e+00</td>\n",
       "      <td>United States</td>\n",
       "      <td>2020.0</td>\n",
       "      <td>9666</td>\n",
       "      <td>Finance</td>\n",
       "      <td>Business Services</td>\n",
       "    </tr>\n",
       "    <tr>\n",
       "      <th>AACQW</th>\n",
       "      <td>Artius Acquisition Inc Warrant</td>\n",
       "      <td>$2.45</td>\n",
       "      <td>0.2000</td>\n",
       "      <td>8.889%</td>\n",
       "      <td>0.000000e+00</td>\n",
       "      <td>United States</td>\n",
       "      <td>2020.0</td>\n",
       "      <td>233112</td>\n",
       "      <td>Finance</td>\n",
       "      <td>Business Services</td>\n",
       "    </tr>\n",
       "    <tr>\n",
       "      <th>AAL</th>\n",
       "      <td>American Airlines Group Inc. Common Stock</td>\n",
       "      <td>$17.635</td>\n",
       "      <td>1.0450</td>\n",
       "      <td>6.299%</td>\n",
       "      <td>1.095979e+10</td>\n",
       "      <td>United States</td>\n",
       "      <td>NaN</td>\n",
       "      <td>43472458</td>\n",
       "      <td>Transportation</td>\n",
       "      <td>Air Freight/Delivery Services</td>\n",
       "    </tr>\n",
       "    <tr>\n",
       "      <th>AAME</th>\n",
       "      <td>Atlantic American Corporation Common Stock</td>\n",
       "      <td>$2.30</td>\n",
       "      <td>0.0600</td>\n",
       "      <td>2.679%</td>\n",
       "      <td>4.695284e+07</td>\n",
       "      <td>United States</td>\n",
       "      <td>NaN</td>\n",
       "      <td>3683</td>\n",
       "      <td>Finance</td>\n",
       "      <td>Life Insurance</td>\n",
       "    </tr>\n",
       "    <tr>\n",
       "      <th>AAOI</th>\n",
       "      <td>Applied Optoelectronics Inc. Common Stock</td>\n",
       "      <td>$10.94</td>\n",
       "      <td>0.3100</td>\n",
       "      <td>2.916%</td>\n",
       "      <td>2.513601e+08</td>\n",
       "      <td>United States</td>\n",
       "      <td>2013.0</td>\n",
       "      <td>306950</td>\n",
       "      <td>Technology</td>\n",
       "      <td>Semiconductors</td>\n",
       "    </tr>\n",
       "    <tr>\n",
       "      <th>AAON</th>\n",
       "      <td>AAON Inc. Common Stock</td>\n",
       "      <td>$75.74</td>\n",
       "      <td>-0.1100</td>\n",
       "      <td>-0.145%</td>\n",
       "      <td>3.956816e+09</td>\n",
       "      <td>United States</td>\n",
       "      <td>NaN</td>\n",
       "      <td>59631</td>\n",
       "      <td>Capital Goods</td>\n",
       "      <td>Industrial Machinery/Components</td>\n",
       "    </tr>\n",
       "    <tr>\n",
       "      <th>AAPL</th>\n",
       "      <td>Apple Inc. Common Stock</td>\n",
       "      <td>$135.0708</td>\n",
       "      <td>0.0808</td>\n",
       "      <td>0.06%</td>\n",
       "      <td>2.341768e+12</td>\n",
       "      <td>United States</td>\n",
       "      <td>1980.0</td>\n",
       "      <td>53606150</td>\n",
       "      <td>Technology</td>\n",
       "      <td>Computer Manufacturing</td>\n",
       "    </tr>\n",
       "    <tr>\n",
       "      <th>AAWW</th>\n",
       "      <td>Atlas Air Worldwide Holdings NEW Common Stock</td>\n",
       "      <td>$52.13</td>\n",
       "      <td>-0.2600</td>\n",
       "      <td>-0.496%</td>\n",
       "      <td>1.434477e+09</td>\n",
       "      <td>United States</td>\n",
       "      <td>NaN</td>\n",
       "      <td>202342</td>\n",
       "      <td>Transportation</td>\n",
       "      <td>Transportation Services</td>\n",
       "    </tr>\n",
       "    <tr>\n",
       "      <th>ABCB</th>\n",
       "      <td>Ameris Bancorp Common Stock</td>\n",
       "      <td>$41.65</td>\n",
       "      <td>0.2100</td>\n",
       "      <td>0.507%</td>\n",
       "      <td>2.896403e+09</td>\n",
       "      <td>United States</td>\n",
       "      <td>1994.0</td>\n",
       "      <td>116194</td>\n",
       "      <td>Finance</td>\n",
       "      <td>Major Banks</td>\n",
       "    </tr>\n",
       "    <tr>\n",
       "      <th>ABCL</th>\n",
       "      <td>AbCellera Biologics Inc. Common Shares</td>\n",
       "      <td>$49.04</td>\n",
       "      <td>1.0900</td>\n",
       "      <td>2.273%</td>\n",
       "      <td>1.320097e+10</td>\n",
       "      <td>Canada</td>\n",
       "      <td>2020.0</td>\n",
       "      <td>375841</td>\n",
       "      <td>Health Care</td>\n",
       "      <td>Major Pharmaceuticals</td>\n",
       "    </tr>\n",
       "    <tr>\n",
       "      <th>ABCM</th>\n",
       "      <td>Abcam plc American Depositary Shares</td>\n",
       "      <td>$22.3894</td>\n",
       "      <td>-0.3506</td>\n",
       "      <td>-1.542%</td>\n",
       "      <td>5.075528e+09</td>\n",
       "      <td>United Kingdom</td>\n",
       "      <td>2020.0</td>\n",
       "      <td>71098</td>\n",
       "      <td>Health Care</td>\n",
       "      <td>Biotechnology: Biological Products (No Diagnos...</td>\n",
       "    </tr>\n",
       "    <tr>\n",
       "      <th>ABEO</th>\n",
       "      <td>Abeona Therapeutics Inc. Common Stock</td>\n",
       "      <td>$2.31</td>\n",
       "      <td>0.2800</td>\n",
       "      <td>13.793%</td>\n",
       "      <td>2.275990e+08</td>\n",
       "      <td>United States</td>\n",
       "      <td>NaN</td>\n",
       "      <td>3514142</td>\n",
       "      <td>Health Care</td>\n",
       "      <td>Major Pharmaceuticals</td>\n",
       "    </tr>\n",
       "    <tr>\n",
       "      <th>ABIO</th>\n",
       "      <td>ARCA biopharma Inc. Common Stock</td>\n",
       "      <td>$4.56</td>\n",
       "      <td>0.1300</td>\n",
       "      <td>2.935%</td>\n",
       "      <td>4.250590e+07</td>\n",
       "      <td>United States</td>\n",
       "      <td>NaN</td>\n",
       "      <td>453614</td>\n",
       "      <td>Health Care</td>\n",
       "      <td>Biotechnology: In Vitro &amp; In Vivo Diagnostic S...</td>\n",
       "    </tr>\n",
       "    <tr>\n",
       "      <th>ABMD</th>\n",
       "      <td>ABIOMED Inc. Common Stock</td>\n",
       "      <td>$329.72</td>\n",
       "      <td>-18.1200</td>\n",
       "      <td>-5.209%</td>\n",
       "      <td>1.491145e+10</td>\n",
       "      <td>United States</td>\n",
       "      <td>NaN</td>\n",
       "      <td>494425</td>\n",
       "      <td>Health Care</td>\n",
       "      <td>Medical/Dental Instruments</td>\n",
       "    </tr>\n",
       "    <tr>\n",
       "      <th>ABNB</th>\n",
       "      <td>Airbnb Inc. Class A Common Stock</td>\n",
       "      <td>$185.71</td>\n",
       "      <td>6.5400</td>\n",
       "      <td>3.65%</td>\n",
       "      <td>1.107573e+11</td>\n",
       "      <td>United States</td>\n",
       "      <td>2020.0</td>\n",
       "      <td>3018480</td>\n",
       "      <td>Finance</td>\n",
       "      <td>Diversified Commercial Services</td>\n",
       "    </tr>\n",
       "    <tr>\n",
       "      <th>ABST</th>\n",
       "      <td>Absolute Software Corporation Common Stock</td>\n",
       "      <td>$13.07</td>\n",
       "      <td>-0.1600</td>\n",
       "      <td>-1.209%</td>\n",
       "      <td>6.375257e+08</td>\n",
       "      <td>Canada</td>\n",
       "      <td>2020.0</td>\n",
       "      <td>18458</td>\n",
       "      <td>Technology</td>\n",
       "      <td>Computer Software: Prepackaged Software</td>\n",
       "    </tr>\n",
       "    <tr>\n",
       "      <th>ABTX</th>\n",
       "      <td>Allegiance Bancshares Inc. Common Stock</td>\n",
       "      <td>$36.1724</td>\n",
       "      <td>-0.1276</td>\n",
       "      <td>-0.352%</td>\n",
       "      <td>7.396355e+08</td>\n",
       "      <td>United States</td>\n",
       "      <td>2015.0</td>\n",
       "      <td>19117</td>\n",
       "      <td>Finance</td>\n",
       "      <td>Major Banks</td>\n",
       "    </tr>\n",
       "    <tr>\n",
       "      <th>ABUS</th>\n",
       "      <td>Arbutus Biopharma Corporation Common Stock</td>\n",
       "      <td>$3.95</td>\n",
       "      <td>0.0300</td>\n",
       "      <td>0.765%</td>\n",
       "      <td>3.353916e+08</td>\n",
       "      <td>Canada</td>\n",
       "      <td>NaN</td>\n",
       "      <td>1124380</td>\n",
       "      <td>Health Care</td>\n",
       "      <td>Major Pharmaceuticals</td>\n",
       "    </tr>\n",
       "    <tr>\n",
       "      <th>ACAC</th>\n",
       "      <td>Acies Acquisition Corp. Class A Ordinary Share</td>\n",
       "      <td>$11.30</td>\n",
       "      <td>-0.4800</td>\n",
       "      <td>-4.075%</td>\n",
       "      <td>3.040406e+08</td>\n",
       "      <td>United States</td>\n",
       "      <td>2020.0</td>\n",
       "      <td>1301646</td>\n",
       "      <td>Finance</td>\n",
       "      <td>Business Services</td>\n",
       "    </tr>\n",
       "    <tr>\n",
       "      <th>ACACU</th>\n",
       "      <td>Acies Acquisition Corp. Unit</td>\n",
       "      <td>$12.16</td>\n",
       "      <td>-0.4900</td>\n",
       "      <td>-3.874%</td>\n",
       "      <td>0.000000e+00</td>\n",
       "      <td>United States</td>\n",
       "      <td>2020.0</td>\n",
       "      <td>129602</td>\n",
       "      <td>Finance</td>\n",
       "      <td>Business Services</td>\n",
       "    </tr>\n",
       "    <tr>\n",
       "      <th>ACACW</th>\n",
       "      <td>Acies Acquisition Corp. Warrant</td>\n",
       "      <td>$2.76</td>\n",
       "      <td>0.0400</td>\n",
       "      <td>1.471%</td>\n",
       "      <td>0.000000e+00</td>\n",
       "      <td>United States</td>\n",
       "      <td>2020.0</td>\n",
       "      <td>155723</td>\n",
       "      <td>Finance</td>\n",
       "      <td>Business Services</td>\n",
       "    </tr>\n",
       "    <tr>\n",
       "      <th>ACAD</th>\n",
       "      <td>ACADIA Pharmaceuticals Inc. Common Stock</td>\n",
       "      <td>$49.99</td>\n",
       "      <td>0.5600</td>\n",
       "      <td>1.133%</td>\n",
       "      <td>7.947315e+09</td>\n",
       "      <td>United States</td>\n",
       "      <td>2004.0</td>\n",
       "      <td>700282</td>\n",
       "      <td>Health Care</td>\n",
       "      <td>Major Pharmaceuticals</td>\n",
       "    </tr>\n",
       "    <tr>\n",
       "      <th>ACBI</th>\n",
       "      <td>Atlantic Capital Bancshares Inc. Common Stock</td>\n",
       "      <td>$18.37</td>\n",
       "      <td>-0.2800</td>\n",
       "      <td>-1.501%</td>\n",
       "      <td>3.746545e+08</td>\n",
       "      <td>United States</td>\n",
       "      <td>NaN</td>\n",
       "      <td>22517</td>\n",
       "      <td>Finance</td>\n",
       "      <td>Major Banks</td>\n",
       "    </tr>\n",
       "    <tr>\n",
       "      <th>ACCD</th>\n",
       "      <td>Accolade Inc. Common Stock</td>\n",
       "      <td>$53.755</td>\n",
       "      <td>0.2250</td>\n",
       "      <td>0.42%</td>\n",
       "      <td>2.973790e+09</td>\n",
       "      <td>United States</td>\n",
       "      <td>2020.0</td>\n",
       "      <td>375548</td>\n",
       "      <td>NaN</td>\n",
       "      <td>NaN</td>\n",
       "    </tr>\n",
       "    <tr>\n",
       "      <th>ACER</th>\n",
       "      <td>Acer Therapeutics Inc. Common Stock (DE)</td>\n",
       "      <td>$3.99</td>\n",
       "      <td>0.2600</td>\n",
       "      <td>6.971%</td>\n",
       "      <td>5.709787e+07</td>\n",
       "      <td>United States</td>\n",
       "      <td>NaN</td>\n",
       "      <td>384058</td>\n",
       "      <td>Health Care</td>\n",
       "      <td>Major Pharmaceuticals</td>\n",
       "    </tr>\n",
       "    <tr>\n",
       "      <th>ACET</th>\n",
       "      <td>Adicet Bio Inc. Common Stock</td>\n",
       "      <td>$12.43</td>\n",
       "      <td>0.2300</td>\n",
       "      <td>1.885%</td>\n",
       "      <td>2.435016e+08</td>\n",
       "      <td>United States</td>\n",
       "      <td>2018.0</td>\n",
       "      <td>31228</td>\n",
       "      <td>Health Care</td>\n",
       "      <td>Major Pharmaceuticals</td>\n",
       "    </tr>\n",
       "    <tr>\n",
       "      <th>ACEV</th>\n",
       "      <td>ACE Convergence Acquisition Corp. Class A Ordi...</td>\n",
       "      <td>$11.18</td>\n",
       "      <td>-0.1300</td>\n",
       "      <td>-1.149%</td>\n",
       "      <td>3.214250e+08</td>\n",
       "      <td>United States</td>\n",
       "      <td>2020.0</td>\n",
       "      <td>550040</td>\n",
       "      <td>Finance</td>\n",
       "      <td>Business Services</td>\n",
       "    </tr>\n",
       "    <tr>\n",
       "      <th>ACEVU</th>\n",
       "      <td>ACE Convergence Acquisition Corp. Unit</td>\n",
       "      <td>$12.50</td>\n",
       "      <td>0.0100</td>\n",
       "      <td>0.08%</td>\n",
       "      <td>0.000000e+00</td>\n",
       "      <td>United States</td>\n",
       "      <td>2020.0</td>\n",
       "      <td>11109</td>\n",
       "      <td>Finance</td>\n",
       "      <td>Business Services</td>\n",
       "    </tr>\n",
       "    <tr>\n",
       "      <th>ACEVW</th>\n",
       "      <td>ACE Convergence Acquisition Corp. Warrant</td>\n",
       "      <td>$2.72</td>\n",
       "      <td>0.1700</td>\n",
       "      <td>6.667%</td>\n",
       "      <td>0.000000e+00</td>\n",
       "      <td>United States</td>\n",
       "      <td>2020.0</td>\n",
       "      <td>220831</td>\n",
       "      <td>Finance</td>\n",
       "      <td>Business Services</td>\n",
       "    </tr>\n",
       "    <tr>\n",
       "      <th>ACGL</th>\n",
       "      <td>Arch Capital Group Ltd. Common Stock</td>\n",
       "      <td>$32.85</td>\n",
       "      <td>-0.3000</td>\n",
       "      <td>-0.905%</td>\n",
       "      <td>1.333797e+10</td>\n",
       "      <td>Bermuda</td>\n",
       "      <td>NaN</td>\n",
       "      <td>741229</td>\n",
       "      <td>Finance</td>\n",
       "      <td>Property-Casualty Insurers</td>\n",
       "    </tr>\n",
       "    <tr>\n",
       "      <th>ACGLO</th>\n",
       "      <td>Arch Capital Group Ltd. Depositary Shares Each...</td>\n",
       "      <td>$26.435</td>\n",
       "      <td>0.0019</td>\n",
       "      <td>0.007%</td>\n",
       "      <td>0.000000e+00</td>\n",
       "      <td>Bermuda</td>\n",
       "      <td>NaN</td>\n",
       "      <td>8910</td>\n",
       "      <td>Finance</td>\n",
       "      <td>Property-Casualty Insurers</td>\n",
       "    </tr>\n",
       "    <tr>\n",
       "      <th>ACGLP</th>\n",
       "      <td>Arch Capital Group Ltd. Depositary Shares Repr...</td>\n",
       "      <td>$25.6401</td>\n",
       "      <td>-0.1499</td>\n",
       "      <td>-0.581%</td>\n",
       "      <td>0.000000e+00</td>\n",
       "      <td>Bermuda</td>\n",
       "      <td>NaN</td>\n",
       "      <td>7481</td>\n",
       "      <td>Finance</td>\n",
       "      <td>Property-Casualty Insurers</td>\n",
       "    </tr>\n",
       "    <tr>\n",
       "      <th>ACHC</th>\n",
       "      <td>Acadia Healthcare Company Inc. Common Stock</td>\n",
       "      <td>$53.79</td>\n",
       "      <td>0.4300</td>\n",
       "      <td>0.806%</td>\n",
       "      <td>4.786839e+09</td>\n",
       "      <td>United States</td>\n",
       "      <td>NaN</td>\n",
       "      <td>196410</td>\n",
       "      <td>Health Care</td>\n",
       "      <td>Medical Specialities</td>\n",
       "    </tr>\n",
       "    <tr>\n",
       "      <th>ACHV</th>\n",
       "      <td>Achieve Life Sciences Inc. Common Shares</td>\n",
       "      <td>$13.6468</td>\n",
       "      <td>0.8868</td>\n",
       "      <td>6.95%</td>\n",
       "      <td>8.311125e+07</td>\n",
       "      <td>United States</td>\n",
       "      <td>NaN</td>\n",
       "      <td>219219</td>\n",
       "      <td>Health Care</td>\n",
       "      <td>Biotechnology: In Vitro &amp; In Vivo Diagnostic S...</td>\n",
       "    </tr>\n",
       "    <tr>\n",
       "      <th>ACIA</th>\n",
       "      <td>Acacia Communications Inc. Common Stock</td>\n",
       "      <td>$114.69</td>\n",
       "      <td>0.1200</td>\n",
       "      <td>0.105%</td>\n",
       "      <td>4.858701e+09</td>\n",
       "      <td>United States</td>\n",
       "      <td>2016.0</td>\n",
       "      <td>338515</td>\n",
       "      <td>Technology</td>\n",
       "      <td>Semiconductors</td>\n",
       "    </tr>\n",
       "    <tr>\n",
       "      <th>ACIU</th>\n",
       "      <td>AC Immune SA Common Stock</td>\n",
       "      <td>$6.56</td>\n",
       "      <td>-0.0400</td>\n",
       "      <td>-0.606%</td>\n",
       "      <td>4.706228e+08</td>\n",
       "      <td>Switzerland</td>\n",
       "      <td>2016.0</td>\n",
       "      <td>278645</td>\n",
       "      <td>Health Care</td>\n",
       "      <td>Major Pharmaceuticals</td>\n",
       "    </tr>\n",
       "    <tr>\n",
       "      <th>ACIW</th>\n",
       "      <td>ACI Worldwide Inc. Common Stock</td>\n",
       "      <td>$40.03</td>\n",
       "      <td>0.1600</td>\n",
       "      <td>0.401%</td>\n",
       "      <td>4.673964e+09</td>\n",
       "      <td>United States</td>\n",
       "      <td>NaN</td>\n",
       "      <td>206973</td>\n",
       "      <td>Technology</td>\n",
       "      <td>Computer Software: Prepackaged Software</td>\n",
       "    </tr>\n",
       "    <tr>\n",
       "      <th>ACKIU</th>\n",
       "      <td>Ackrell SPAC Partners I Co. Units</td>\n",
       "      <td>$10.46</td>\n",
       "      <td>0.0400</td>\n",
       "      <td>0.384%</td>\n",
       "      <td>0.000000e+00</td>\n",
       "      <td>United States</td>\n",
       "      <td>2020.0</td>\n",
       "      <td>86161</td>\n",
       "      <td>Finance</td>\n",
       "      <td>Business Services</td>\n",
       "    </tr>\n",
       "    <tr>\n",
       "      <th>ACLS</th>\n",
       "      <td>Axcelis Technologies Inc. Common Stock</td>\n",
       "      <td>$36.11</td>\n",
       "      <td>-1.2300</td>\n",
       "      <td>-3.294%</td>\n",
       "      <td>1.209541e+09</td>\n",
       "      <td>United States</td>\n",
       "      <td>2000.0</td>\n",
       "      <td>118399</td>\n",
       "      <td>Technology</td>\n",
       "      <td>Industrial Machinery/Components</td>\n",
       "    </tr>\n",
       "    <tr>\n",
       "      <th>ACMR</th>\n",
       "      <td>ACM Research Inc. Class A Common Stock</td>\n",
       "      <td>$97.71</td>\n",
       "      <td>-1.1100</td>\n",
       "      <td>-1.123%</td>\n",
       "      <td>1.804198e+09</td>\n",
       "      <td>United States</td>\n",
       "      <td>2017.0</td>\n",
       "      <td>51863</td>\n",
       "      <td>Technology</td>\n",
       "      <td>Industrial Machinery/Components</td>\n",
       "    </tr>\n",
       "    <tr>\n",
       "      <th>ACNB</th>\n",
       "      <td>ACNB Corporation Common Stock</td>\n",
       "      <td>$25.375</td>\n",
       "      <td>-0.5350</td>\n",
       "      <td>-2.065%</td>\n",
       "      <td>2.208466e+08</td>\n",
       "      <td>United States</td>\n",
       "      <td>NaN</td>\n",
       "      <td>7855</td>\n",
       "      <td>Finance</td>\n",
       "      <td>Major Banks</td>\n",
       "    </tr>\n",
       "    <tr>\n",
       "      <th>ACOR</th>\n",
       "      <td>Acorda Therapeutics Inc. Common Stock</td>\n",
       "      <td>$7.28</td>\n",
       "      <td>0.3050</td>\n",
       "      <td>4.373%</td>\n",
       "      <td>6.903796e+07</td>\n",
       "      <td>United States</td>\n",
       "      <td>2006.0</td>\n",
       "      <td>198118</td>\n",
       "      <td>Health Care</td>\n",
       "      <td>Biotechnology: Biological Products (No Diagnos...</td>\n",
       "    </tr>\n",
       "    <tr>\n",
       "      <th>ACRS</th>\n",
       "      <td>Aclaris Therapeutics Inc. Common Stock</td>\n",
       "      <td>$21.47</td>\n",
       "      <td>0.7400</td>\n",
       "      <td>3.57%</td>\n",
       "      <td>1.084539e+09</td>\n",
       "      <td>United States</td>\n",
       "      <td>2015.0</td>\n",
       "      <td>389793</td>\n",
       "      <td>Health Care</td>\n",
       "      <td>Major Pharmaceuticals</td>\n",
       "    </tr>\n",
       "    <tr>\n",
       "      <th>ACRX</th>\n",
       "      <td>AcelRx Pharmaceuticals Inc. Common Stock</td>\n",
       "      <td>$2.3834</td>\n",
       "      <td>0.2134</td>\n",
       "      <td>9.834%</td>\n",
       "      <td>2.712570e+08</td>\n",
       "      <td>United States</td>\n",
       "      <td>2011.0</td>\n",
       "      <td>4107223</td>\n",
       "      <td>Health Care</td>\n",
       "      <td>Major Pharmaceuticals</td>\n",
       "    </tr>\n",
       "    <tr>\n",
       "      <th>ACST</th>\n",
       "      <td>Acasti Pharma Inc. Class A Common Stock</td>\n",
       "      <td>$0.7122</td>\n",
       "      <td>0.0320</td>\n",
       "      <td>4.704%</td>\n",
       "      <td>6.900686e+07</td>\n",
       "      <td>Canada</td>\n",
       "      <td>NaN</td>\n",
       "      <td>16933104</td>\n",
       "      <td>Health Care</td>\n",
       "      <td>Major Pharmaceuticals</td>\n",
       "    </tr>\n",
       "    <tr>\n",
       "      <th>ACTC</th>\n",
       "      <td>ArcLight Clean Transition Corp. Class A Ordina...</td>\n",
       "      <td>$25.9175</td>\n",
       "      <td>-0.5825</td>\n",
       "      <td>-2.198%</td>\n",
       "      <td>8.990133e+08</td>\n",
       "      <td>United States</td>\n",
       "      <td>2020.0</td>\n",
       "      <td>1325420</td>\n",
       "      <td>Finance</td>\n",
       "      <td>Business Services</td>\n",
       "    </tr>\n",
       "    <tr>\n",
       "      <th>ACTCU</th>\n",
       "      <td>ArcLight Clean Transition Corp. Unit</td>\n",
       "      <td>$30.427</td>\n",
       "      <td>0.0570</td>\n",
       "      <td>0.188%</td>\n",
       "      <td>0.000000e+00</td>\n",
       "      <td>United States</td>\n",
       "      <td>2020.0</td>\n",
       "      <td>5757</td>\n",
       "      <td>Finance</td>\n",
       "      <td>Business Services</td>\n",
       "    </tr>\n",
       "    <tr>\n",
       "      <th>ACTCW</th>\n",
       "      <td>ArcLight Clean Transition Corp. Warrant</td>\n",
       "      <td>$8.165</td>\n",
       "      <td>0.2650</td>\n",
       "      <td>3.354%</td>\n",
       "      <td>0.000000e+00</td>\n",
       "      <td>United States</td>\n",
       "      <td>2020.0</td>\n",
       "      <td>269199</td>\n",
       "      <td>Finance</td>\n",
       "      <td>Business Services</td>\n",
       "    </tr>\n",
       "    <tr>\n",
       "      <th>ACTG</th>\n",
       "      <td>Acacia Research Corporation (Acacia Tech) Comm...</td>\n",
       "      <td>$6.97</td>\n",
       "      <td>0.5500</td>\n",
       "      <td>8.567%</td>\n",
       "      <td>3.434778e+08</td>\n",
       "      <td>United States</td>\n",
       "      <td>NaN</td>\n",
       "      <td>2023299</td>\n",
       "      <td>Miscellaneous</td>\n",
       "      <td>Multi-Sector Companies</td>\n",
       "    </tr>\n",
       "    <tr>\n",
       "      <th>ADAP</th>\n",
       "      <td>Adaptimmune Therapeutics plc American Deposita...</td>\n",
       "      <td>$5.88</td>\n",
       "      <td>-0.1500</td>\n",
       "      <td>-2.488%</td>\n",
       "      <td>9.100991e+08</td>\n",
       "      <td>United Kingdom</td>\n",
       "      <td>2015.0</td>\n",
       "      <td>539806</td>\n",
       "      <td>Health Care</td>\n",
       "      <td>Biotechnology: Biological Products (No Diagnos...</td>\n",
       "    </tr>\n",
       "    <tr>\n",
       "      <th>ADBE</th>\n",
       "      <td>Adobe Inc. Common Stock</td>\n",
       "      <td>$482.85</td>\n",
       "      <td>-2.0800</td>\n",
       "      <td>-0.429%</td>\n",
       "      <td>2.311403e+11</td>\n",
       "      <td>United States</td>\n",
       "      <td>1986.0</td>\n",
       "      <td>948832</td>\n",
       "      <td>Technology</td>\n",
       "      <td>Computer Software: Prepackaged Software</td>\n",
       "    </tr>\n",
       "    <tr>\n",
       "      <th>ADERU</th>\n",
       "      <td>26 Capital Acquisition Corp. Unit</td>\n",
       "      <td>$11.02</td>\n",
       "      <td>0.1901</td>\n",
       "      <td>1.755%</td>\n",
       "      <td>0.000000e+00</td>\n",
       "      <td>United States</td>\n",
       "      <td>2021.0</td>\n",
       "      <td>26142</td>\n",
       "      <td>Finance</td>\n",
       "      <td>Business Services</td>\n",
       "    </tr>\n",
       "    <tr>\n",
       "      <th>ADES</th>\n",
       "      <td>Advanced Emissions Solutions Inc. Common Stock</td>\n",
       "      <td>$5.02</td>\n",
       "      <td>0.3700</td>\n",
       "      <td>7.957%</td>\n",
       "      <td>9.311039e+07</td>\n",
       "      <td>United States</td>\n",
       "      <td>NaN</td>\n",
       "      <td>129837</td>\n",
       "      <td>Basic Industries</td>\n",
       "      <td>Major Chemicals</td>\n",
       "    </tr>\n",
       "    <tr>\n",
       "      <th>ADI</th>\n",
       "      <td>Analog Devices Inc. Common Stock</td>\n",
       "      <td>$149.15</td>\n",
       "      <td>-2.7200</td>\n",
       "      <td>-1.791%</td>\n",
       "      <td>5.509654e+10</td>\n",
       "      <td>United States</td>\n",
       "      <td>NaN</td>\n",
       "      <td>1295189</td>\n",
       "      <td>Technology</td>\n",
       "      <td>Semiconductors</td>\n",
       "    </tr>\n",
       "    <tr>\n",
       "      <th>ADIL</th>\n",
       "      <td>Adial Pharmaceuticals Inc Common Stock</td>\n",
       "      <td>$2.405</td>\n",
       "      <td>0.1850</td>\n",
       "      <td>8.333%</td>\n",
       "      <td>3.461541e+07</td>\n",
       "      <td>United States</td>\n",
       "      <td>2018.0</td>\n",
       "      <td>465821</td>\n",
       "      <td>Health Care</td>\n",
       "      <td>Major Pharmaceuticals</td>\n",
       "    </tr>\n",
       "    <tr>\n",
       "      <th>ADILW</th>\n",
       "      <td>Adial Pharmaceuticals Inc Warrant</td>\n",
       "      <td>$0.52</td>\n",
       "      <td>-0.0300</td>\n",
       "      <td>-5.455%</td>\n",
       "      <td>0.000000e+00</td>\n",
       "      <td>United States</td>\n",
       "      <td>2018.0</td>\n",
       "      <td>2492</td>\n",
       "      <td>Health Care</td>\n",
       "      <td>Major Pharmaceuticals</td>\n",
       "    </tr>\n",
       "    <tr>\n",
       "      <th>ADMA</th>\n",
       "      <td>ADMA Biologics Inc Common Stock</td>\n",
       "      <td>$2.715</td>\n",
       "      <td>0.2750</td>\n",
       "      <td>11.27%</td>\n",
       "      <td>2.566980e+08</td>\n",
       "      <td>United States</td>\n",
       "      <td>NaN</td>\n",
       "      <td>6309888</td>\n",
       "      <td>Health Care</td>\n",
       "      <td>Biotechnology: Biological Products (No Diagnos...</td>\n",
       "    </tr>\n",
       "    <tr>\n",
       "      <th>ADMP</th>\n",
       "      <td>Adamis Pharmaceuticals Corporation Common Stock</td>\n",
       "      <td>$1.10</td>\n",
       "      <td>0.0000</td>\n",
       "      <td>0.00%</td>\n",
       "      <td>1.030234e+08</td>\n",
       "      <td>United States</td>\n",
       "      <td>NaN</td>\n",
       "      <td>9122746</td>\n",
       "      <td>Health Care</td>\n",
       "      <td>Major Pharmaceuticals</td>\n",
       "    </tr>\n",
       "  </tbody>\n",
       "</table>\n",
       "</div>"
      ],
      "text/plain": [
       "                                                     name  last sale  net change % change     marketcap         country  ipo year    volume             sector                                           industry\n",
       "symbol                                                                                                                                                                                                           \n",
       "AACG     ATA Creativity Global American Depositary Shares      $1.40      0.0000    0.00%  4.389070e+07           China       NaN     13528  Consumer Services                            Other Consumer Services\n",
       "AACQ         Artius Acquisition Inc. Class A Common Stock     $11.05      0.2200   2.031%  1.000716e+09   United States    2020.0    706406            Finance                                  Business Services\n",
       "AACQU                       Artius Acquisition Inc. Unit      $11.90      0.2600   2.234%  0.000000e+00   United States    2020.0      9666            Finance                                  Business Services\n",
       "AACQW                      Artius Acquisition Inc Warrant      $2.45      0.2000   8.889%  0.000000e+00   United States    2020.0    233112            Finance                                  Business Services\n",
       "AAL             American Airlines Group Inc. Common Stock    $17.635      1.0450   6.299%  1.095979e+10   United States       NaN  43472458     Transportation                      Air Freight/Delivery Services\n",
       "AAME           Atlantic American Corporation Common Stock      $2.30      0.0600   2.679%  4.695284e+07   United States       NaN      3683            Finance                                     Life Insurance\n",
       "AAOI            Applied Optoelectronics Inc. Common Stock     $10.94      0.3100   2.916%  2.513601e+08   United States    2013.0    306950         Technology                                     Semiconductors\n",
       "AAON                               AAON Inc. Common Stock     $75.74     -0.1100  -0.145%  3.956816e+09   United States       NaN     59631      Capital Goods                    Industrial Machinery/Components\n",
       "AAPL                              Apple Inc. Common Stock  $135.0708      0.0808    0.06%  2.341768e+12   United States    1980.0  53606150         Technology                             Computer Manufacturing\n",
       "AAWW        Atlas Air Worldwide Holdings NEW Common Stock     $52.13     -0.2600  -0.496%  1.434477e+09   United States       NaN    202342     Transportation                            Transportation Services\n",
       "ABCB                          Ameris Bancorp Common Stock     $41.65      0.2100   0.507%  2.896403e+09   United States    1994.0    116194            Finance                                        Major Banks\n",
       "ABCL               AbCellera Biologics Inc. Common Shares     $49.04      1.0900   2.273%  1.320097e+10          Canada    2020.0    375841        Health Care                              Major Pharmaceuticals\n",
       "ABCM                 Abcam plc American Depositary Shares   $22.3894     -0.3506  -1.542%  5.075528e+09  United Kingdom    2020.0     71098        Health Care  Biotechnology: Biological Products (No Diagnos...\n",
       "ABEO                Abeona Therapeutics Inc. Common Stock      $2.31      0.2800  13.793%  2.275990e+08   United States       NaN   3514142        Health Care                              Major Pharmaceuticals\n",
       "ABIO                     ARCA biopharma Inc. Common Stock      $4.56      0.1300   2.935%  4.250590e+07   United States       NaN    453614        Health Care  Biotechnology: In Vitro & In Vivo Diagnostic S...\n",
       "ABMD                            ABIOMED Inc. Common Stock    $329.72    -18.1200  -5.209%  1.491145e+10   United States       NaN    494425        Health Care                         Medical/Dental Instruments\n",
       "ABNB                     Airbnb Inc. Class A Common Stock    $185.71      6.5400    3.65%  1.107573e+11   United States    2020.0   3018480            Finance                    Diversified Commercial Services\n",
       "ABST           Absolute Software Corporation Common Stock     $13.07     -0.1600  -1.209%  6.375257e+08          Canada    2020.0     18458         Technology            Computer Software: Prepackaged Software\n",
       "ABTX              Allegiance Bancshares Inc. Common Stock   $36.1724     -0.1276  -0.352%  7.396355e+08   United States    2015.0     19117            Finance                                        Major Banks\n",
       "ABUS           Arbutus Biopharma Corporation Common Stock      $3.95      0.0300   0.765%  3.353916e+08          Canada       NaN   1124380        Health Care                              Major Pharmaceuticals\n",
       "ACAC       Acies Acquisition Corp. Class A Ordinary Share     $11.30     -0.4800  -4.075%  3.040406e+08   United States    2020.0   1301646            Finance                                  Business Services\n",
       "ACACU                        Acies Acquisition Corp. Unit     $12.16     -0.4900  -3.874%  0.000000e+00   United States    2020.0    129602            Finance                                  Business Services\n",
       "ACACW                     Acies Acquisition Corp. Warrant      $2.76      0.0400   1.471%  0.000000e+00   United States    2020.0    155723            Finance                                  Business Services\n",
       "ACAD             ACADIA Pharmaceuticals Inc. Common Stock     $49.99      0.5600   1.133%  7.947315e+09   United States    2004.0    700282        Health Care                              Major Pharmaceuticals\n",
       "ACBI        Atlantic Capital Bancshares Inc. Common Stock     $18.37     -0.2800  -1.501%  3.746545e+08   United States       NaN     22517            Finance                                        Major Banks\n",
       "ACCD                           Accolade Inc. Common Stock    $53.755      0.2250    0.42%  2.973790e+09   United States    2020.0    375548                NaN                                                NaN\n",
       "ACER             Acer Therapeutics Inc. Common Stock (DE)      $3.99      0.2600   6.971%  5.709787e+07   United States       NaN    384058        Health Care                              Major Pharmaceuticals\n",
       "ACET                        Adicet Bio Inc. Common Stock      $12.43      0.2300   1.885%  2.435016e+08   United States    2018.0     31228        Health Care                              Major Pharmaceuticals\n",
       "ACEV    ACE Convergence Acquisition Corp. Class A Ordi...     $11.18     -0.1300  -1.149%  3.214250e+08   United States    2020.0    550040            Finance                                  Business Services\n",
       "ACEVU              ACE Convergence Acquisition Corp. Unit     $12.50      0.0100    0.08%  0.000000e+00   United States    2020.0     11109            Finance                                  Business Services\n",
       "ACEVW           ACE Convergence Acquisition Corp. Warrant      $2.72      0.1700   6.667%  0.000000e+00   United States    2020.0    220831            Finance                                  Business Services\n",
       "ACGL                 Arch Capital Group Ltd. Common Stock     $32.85     -0.3000  -0.905%  1.333797e+10         Bermuda       NaN    741229            Finance                         Property-Casualty Insurers\n",
       "ACGLO   Arch Capital Group Ltd. Depositary Shares Each...    $26.435      0.0019   0.007%  0.000000e+00         Bermuda       NaN      8910            Finance                         Property-Casualty Insurers\n",
       "ACGLP   Arch Capital Group Ltd. Depositary Shares Repr...   $25.6401     -0.1499  -0.581%  0.000000e+00         Bermuda       NaN      7481            Finance                         Property-Casualty Insurers\n",
       "ACHC          Acadia Healthcare Company Inc. Common Stock     $53.79      0.4300   0.806%  4.786839e+09   United States       NaN    196410        Health Care                               Medical Specialities\n",
       "ACHV             Achieve Life Sciences Inc. Common Shares   $13.6468      0.8868    6.95%  8.311125e+07   United States       NaN    219219        Health Care  Biotechnology: In Vitro & In Vivo Diagnostic S...\n",
       "ACIA              Acacia Communications Inc. Common Stock    $114.69      0.1200   0.105%  4.858701e+09   United States    2016.0    338515         Technology                                     Semiconductors\n",
       "ACIU                            AC Immune SA Common Stock      $6.56     -0.0400  -0.606%  4.706228e+08     Switzerland    2016.0    278645        Health Care                              Major Pharmaceuticals\n",
       "ACIW                      ACI Worldwide Inc. Common Stock     $40.03      0.1600   0.401%  4.673964e+09   United States       NaN    206973         Technology            Computer Software: Prepackaged Software\n",
       "ACKIU                   Ackrell SPAC Partners I Co. Units     $10.46      0.0400   0.384%  0.000000e+00   United States    2020.0     86161            Finance                                  Business Services\n",
       "ACLS               Axcelis Technologies Inc. Common Stock     $36.11     -1.2300  -3.294%  1.209541e+09   United States    2000.0    118399         Technology                    Industrial Machinery/Components\n",
       "ACMR               ACM Research Inc. Class A Common Stock     $97.71     -1.1100  -1.123%  1.804198e+09   United States    2017.0     51863         Technology                    Industrial Machinery/Components\n",
       "ACNB                        ACNB Corporation Common Stock    $25.375     -0.5350  -2.065%  2.208466e+08   United States       NaN      7855            Finance                                        Major Banks\n",
       "ACOR                Acorda Therapeutics Inc. Common Stock      $7.28      0.3050   4.373%  6.903796e+07   United States    2006.0    198118        Health Care  Biotechnology: Biological Products (No Diagnos...\n",
       "ACRS               Aclaris Therapeutics Inc. Common Stock     $21.47      0.7400    3.57%  1.084539e+09   United States    2015.0    389793        Health Care                              Major Pharmaceuticals\n",
       "ACRX             AcelRx Pharmaceuticals Inc. Common Stock    $2.3834      0.2134   9.834%  2.712570e+08   United States    2011.0   4107223        Health Care                              Major Pharmaceuticals\n",
       "ACST              Acasti Pharma Inc. Class A Common Stock    $0.7122      0.0320   4.704%  6.900686e+07          Canada       NaN  16933104        Health Care                              Major Pharmaceuticals\n",
       "ACTC    ArcLight Clean Transition Corp. Class A Ordina...   $25.9175     -0.5825  -2.198%  8.990133e+08   United States    2020.0   1325420            Finance                                  Business Services\n",
       "ACTCU                ArcLight Clean Transition Corp. Unit    $30.427      0.0570   0.188%  0.000000e+00   United States    2020.0      5757            Finance                                  Business Services\n",
       "ACTCW             ArcLight Clean Transition Corp. Warrant     $8.165      0.2650   3.354%  0.000000e+00   United States    2020.0    269199            Finance                                  Business Services\n",
       "ACTG    Acacia Research Corporation (Acacia Tech) Comm...      $6.97      0.5500   8.567%  3.434778e+08   United States       NaN   2023299      Miscellaneous                             Multi-Sector Companies\n",
       "ADAP    Adaptimmune Therapeutics plc American Deposita...      $5.88     -0.1500  -2.488%  9.100991e+08  United Kingdom    2015.0    539806        Health Care  Biotechnology: Biological Products (No Diagnos...\n",
       "ADBE                              Adobe Inc. Common Stock    $482.85     -2.0800  -0.429%  2.311403e+11   United States    1986.0    948832         Technology            Computer Software: Prepackaged Software\n",
       "ADERU                   26 Capital Acquisition Corp. Unit     $11.02      0.1901   1.755%  0.000000e+00   United States    2021.0     26142            Finance                                  Business Services\n",
       "ADES       Advanced Emissions Solutions Inc. Common Stock      $5.02      0.3700   7.957%  9.311039e+07   United States       NaN    129837   Basic Industries                                    Major Chemicals\n",
       "ADI                      Analog Devices Inc. Common Stock    $149.15     -2.7200  -1.791%  5.509654e+10   United States       NaN   1295189         Technology                                     Semiconductors\n",
       "ADIL               Adial Pharmaceuticals Inc Common Stock     $2.405      0.1850   8.333%  3.461541e+07   United States    2018.0    465821        Health Care                              Major Pharmaceuticals\n",
       "ADILW                   Adial Pharmaceuticals Inc Warrant      $0.52     -0.0300  -5.455%  0.000000e+00   United States    2018.0      2492        Health Care                              Major Pharmaceuticals\n",
       "ADMA                      ADMA Biologics Inc Common Stock     $2.715      0.2750   11.27%  2.566980e+08   United States       NaN   6309888        Health Care  Biotechnology: Biological Products (No Diagnos...\n",
       "ADMP      Adamis Pharmaceuticals Corporation Common Stock      $1.10      0.0000    0.00%  1.030234e+08   United States       NaN   9122746        Health Care                              Major Pharmaceuticals"
      ]
     },
     "execution_count": 98,
     "metadata": {},
     "output_type": "execute_result"
    }
   ],
   "source": [
    "df.head(60)"
   ]
  },
  {
   "cell_type": "markdown",
   "metadata": {},
   "source": [
    "### Convert market cap information to numerical format"
   ]
  },
  {
   "cell_type": "markdown",
   "metadata": {},
   "source": [
    "Market cap is provided as strings so we need to convert it to numerical format."
   ]
  },
  {
   "cell_type": "code",
   "execution_count": 104,
   "metadata": {},
   "outputs": [
    {
     "name": "stdout",
     "output_type": "stream",
     "text": [
      "<class 'pandas.core.frame.DataFrame'>\n",
      "Index: 6462 entries, AACG to ZYME\n",
      "Data columns (total 1 columns):\n",
      " #   Column     Non-Null Count  Dtype  \n",
      "---  ------     --------------  -----  \n",
      " 0   marketcap  6462 non-null   float64\n",
      "dtypes: float64(1)\n",
      "memory usage: 101.0+ KB\n"
     ]
    }
   ],
   "source": [
    "mcap = df[['marketcap']].dropna()\n",
    "mcap.info()\n",
    "\n",
    "# mcap['suffix'] = mcap.marketcap.str[-1]\n",
    "# mcap.suffix.value_counts()"
   ]
  },
  {
   "cell_type": "markdown",
   "metadata": {},
   "source": [
    "Keep only values with value units:"
   ]
  },
  {
   "cell_type": "code",
   "execution_count": null,
   "metadata": {},
   "outputs": [],
   "source": [
    "mcap = mcap[mcap.suffix.str.endswith(('B', 'M'))]\n",
    "mcap.marketcap = pd.to_numeric(mcap.marketcap.str[1:-1])\n",
    "mcaps = {'M': 1e6, 'B': 1e9}\n",
    "for symbol, factor in mcaps.items():\n",
    "    mcap.loc[mcap.suffix == symbol, 'marketcap'] *= factor\n",
    "mcap.info()"
   ]
  },
  {
   "cell_type": "code",
   "execution_count": null,
   "metadata": {},
   "outputs": [],
   "source": [
    "df['marketcap'] = mcap.marketcap\n",
    "df.marketcap.describe(percentiles=np.arange(.1, 1, .1).round(1)).apply(lambda x: f'{int(x):,d}')"
   ]
  },
  {
   "cell_type": "markdown",
   "metadata": {},
   "source": [
    "### Store result"
   ]
  },
  {
   "cell_type": "markdown",
   "metadata": {},
   "source": [
    "The file `us_equities_meta_data.csv` contains a version of the data used for many of the examples. Load using \n",
    "```\n",
    "df = pd.read_csv('us_equities_meta_data.csv')\n",
    "```\n",
    "and proceed to store in HDF5 format."
   ]
  },
  {
   "cell_type": "code",
   "execution_count": 105,
   "metadata": {
    "ExecuteTime": {
     "end_time": "2020-06-16T21:35:00.910722Z",
     "start_time": "2020-06-16T21:35:00.862761Z"
    }
   },
   "outputs": [
    {
     "name": "stdout",
     "output_type": "stream",
     "text": [
      "<class 'pandas.core.frame.DataFrame'>\n",
      "RangeIndex: 6834 entries, 0 to 6833\n",
      "Data columns (total 7 columns):\n",
      " #   Column     Non-Null Count  Dtype  \n",
      "---  ------     --------------  -----  \n",
      " 0   ticker     6834 non-null   object \n",
      " 1   name       6834 non-null   object \n",
      " 2   lastsale   6718 non-null   float64\n",
      " 3   marketcap  5766 non-null   float64\n",
      " 4   ipoyear    3038 non-null   float64\n",
      " 5   sector     5288 non-null   object \n",
      " 6   industry   5288 non-null   object \n",
      "dtypes: float64(3), object(4)\n",
      "memory usage: 373.9+ KB\n"
     ]
    }
   ],
   "source": [
    "df = pd.read_csv('us_equities_meta_data.csv')\n",
    "df.info()"
   ]
  },
  {
   "cell_type": "code",
   "execution_count": 106,
   "metadata": {
    "ExecuteTime": {
     "end_time": "2020-06-16T21:35:22.388412Z",
     "start_time": "2020-06-16T21:35:22.356828Z"
    }
   },
   "outputs": [],
   "source": [
    "with pd.HDFStore(DATA_STORE) as store:\n",
    "    store.put('us_equities/stocks', df.set_index('ticker'))"
   ]
  },
  {
   "cell_type": "markdown",
   "metadata": {},
   "source": [
    "## MNIST Data"
   ]
  },
  {
   "cell_type": "code",
   "execution_count": 108,
   "metadata": {
    "ExecuteTime": {
     "end_time": "2020-06-18T17:19:11.720146Z",
     "start_time": "2020-06-18T17:18:53.948739Z"
    }
   },
   "outputs": [],
   "source": [
    "mnist = fetch_openml('mnist_784', version=1)"
   ]
  },
  {
   "cell_type": "code",
   "execution_count": 109,
   "metadata": {
    "ExecuteTime": {
     "end_time": "2020-06-18T17:19:11.723222Z",
     "start_time": "2020-06-18T17:19:11.721079Z"
    }
   },
   "outputs": [
    {
     "name": "stdout",
     "output_type": "stream",
     "text": [
      "**Author**: Yann LeCun, Corinna Cortes, Christopher J.C. Burges  \n",
      "**Source**: [MNIST Website](http://yann.lecun.com/exdb/mnist/) - Date unknown  \n",
      "**Please cite**:  \n",
      "\n",
      "The MNIST database of handwritten digits with 784 features, raw data available at: http://yann.lecun.com/exdb/mnist/. It can be split in a training set of the first 60,000 examples, and a test set of 10,000 examples  \n",
      "\n",
      "It is a subset of a larger set available from NIST. The digits have been size-normalized and centered in a fixed-size image. It is a good database for people who want to try learning techniques and pattern recognition methods on real-world data while spending minimal efforts on preprocessing and formatting. The original black and white (bilevel) images from NIST were size normalized to fit in a 20x20 pixel box while preserving their aspect ratio. The resulting images contain grey levels as a result of the anti-aliasing technique used by the normalization algorithm. the images were centered in a 28x28 image by computing the center of mass of the pixels, and translating the image so as to position this point at the center of the 28x28 field.  \n",
      "\n",
      "With some classification methods (particularly template-based methods, such as SVM and K-nearest neighbors), the error rate improves when the digits are centered by bounding box rather than center of mass. If you do this kind of pre-processing, you should report it in your publications. The MNIST database was constructed from NIST's NIST originally designated SD-3 as their training set and SD-1 as their test set. However, SD-3 is much cleaner and easier to recognize than SD-1. The reason for this can be found on the fact that SD-3 was collected among Census Bureau employees, while SD-1 was collected among high-school students. Drawing sensible conclusions from learning experiments requires that the result be independent of the choice of training set and test among the complete set of samples. Therefore it was necessary to build a new database by mixing NIST's datasets.  \n",
      "\n",
      "The MNIST training set is composed of 30,000 patterns from SD-3 and 30,000 patterns from SD-1. Our test set was composed of 5,000 patterns from SD-3 and 5,000 patterns from SD-1. The 60,000 pattern training set contained examples from approximately 250 writers. We made sure that the sets of writers of the training set and test set were disjoint. SD-1 contains 58,527 digit images written by 500 different writers. In contrast to SD-3, where blocks of data from each writer appeared in sequence, the data in SD-1 is scrambled. Writer identities for SD-1 is available and we used this information to unscramble the writers. We then split SD-1 in two: characters written by the first 250 writers went into our new training set. The remaining 250 writers were placed in our test set. Thus we had two sets with nearly 30,000 examples each. The new training set was completed with enough examples from SD-3, starting at pattern # 0, to make a full set of 60,000 training patterns. Similarly, the new test set was completed with SD-3 examples starting at pattern # 35,000 to make a full set with 60,000 test patterns. Only a subset of 10,000 test images (5,000 from SD-1 and 5,000 from SD-3) is available on this site. The full 60,000 sample training set is available.\n",
      "\n",
      "Downloaded from openml.org.\n"
     ]
    }
   ],
   "source": [
    "print(mnist.DESCR)"
   ]
  },
  {
   "cell_type": "code",
   "execution_count": 110,
   "metadata": {
    "ExecuteTime": {
     "end_time": "2020-06-18T17:19:21.823457Z",
     "start_time": "2020-06-18T17:19:21.815369Z"
    }
   },
   "outputs": [
    {
     "data": {
      "text/plain": [
       "dict_keys(['data', 'target', 'frame', 'feature_names', 'target_names', 'DESCR', 'details', 'categories', 'url'])"
      ]
     },
     "execution_count": 110,
     "metadata": {},
     "output_type": "execute_result"
    }
   ],
   "source": [
    "mnist.keys()"
   ]
  },
  {
   "cell_type": "code",
   "execution_count": 111,
   "metadata": {
    "ExecuteTime": {
     "end_time": "2020-06-18T17:19:59.989715Z",
     "start_time": "2020-06-18T17:19:59.983320Z"
    }
   },
   "outputs": [],
   "source": [
    "mnist_path = Path('mnist')\n",
    "if not mnist_path.exists():\n",
    "    mnist_path.mkdir()"
   ]
  },
  {
   "cell_type": "code",
   "execution_count": 112,
   "metadata": {
    "ExecuteTime": {
     "end_time": "2020-06-18T17:20:25.489271Z",
     "start_time": "2020-06-18T17:20:25.418621Z"
    }
   },
   "outputs": [],
   "source": [
    "np.save(mnist_path / 'data', mnist.data.astype(np.uint8))\n",
    "np.save(mnist_path / 'labels', mnist.target.astype(np.uint8))"
   ]
  },
  {
   "cell_type": "markdown",
   "metadata": {},
   "source": [
    "## Fashion MNIST Image Data"
   ]
  },
  {
   "cell_type": "markdown",
   "metadata": {},
   "source": [
    "We will use the Fashion MNIST image data created by [Zalando Research](https://github.com/zalandoresearch/fashion-mnist) for some demonstrations."
   ]
  },
  {
   "cell_type": "code",
   "execution_count": null,
   "metadata": {
    "ExecuteTime": {
     "end_time": "2020-06-18T14:42:51.598398Z",
     "start_time": "2020-06-18T14:42:38.233167Z"
    }
   },
   "outputs": [],
   "source": [
    "fashion_mnist = fetch_openml(name='Fashion-MNIST')"
   ]
  },
  {
   "cell_type": "code",
   "execution_count": null,
   "metadata": {
    "ExecuteTime": {
     "end_time": "2020-06-18T14:42:51.604464Z",
     "start_time": "2020-06-18T14:42:51.599373Z"
    }
   },
   "outputs": [],
   "source": [
    "print(fashion_mnist.DESCR)"
   ]
  },
  {
   "cell_type": "code",
   "execution_count": null,
   "metadata": {
    "ExecuteTime": {
     "end_time": "2020-06-18T15:14:10.969125Z",
     "start_time": "2020-06-18T15:14:10.960466Z"
    }
   },
   "outputs": [],
   "source": [
    "label_dict = {0: 'T-shirt/top',\n",
    "              1: 'Trouser',\n",
    "              2: 'Pullover',\n",
    "              3: 'Dress',\n",
    "              4: 'Coat',\n",
    "              5: 'Sandal',\n",
    "              6: 'Shirt',\n",
    "              7: 'Sneaker',\n",
    "              8: 'Bag',\n",
    "              9: 'Ankle boot'}"
   ]
  },
  {
   "cell_type": "code",
   "execution_count": null,
   "metadata": {
    "ExecuteTime": {
     "end_time": "2020-06-18T15:14:11.293906Z",
     "start_time": "2020-06-18T15:14:11.290279Z"
    }
   },
   "outputs": [],
   "source": [
    "fashion_path = Path('fashion_mnist')\n",
    "if not fashion_path.exists():\n",
    "    fashion_path.mkdir()"
   ]
  },
  {
   "cell_type": "code",
   "execution_count": null,
   "metadata": {
    "ExecuteTime": {
     "end_time": "2020-06-18T15:14:11.941092Z",
     "start_time": "2020-06-18T15:14:11.926416Z"
    }
   },
   "outputs": [],
   "source": [
    "pd.Series(label_dict).to_csv(fashion_path / 'label_dict.csv', index=False, header=None)"
   ]
  },
  {
   "cell_type": "code",
   "execution_count": null,
   "metadata": {
    "ExecuteTime": {
     "end_time": "2020-06-18T14:45:50.376114Z",
     "start_time": "2020-06-18T14:45:50.301028Z"
    }
   },
   "outputs": [],
   "source": [
    "np.save(fashion_path / 'data', fashion_mnist.data.astype(np.uint8))\n",
    "np.save(fashion_path / 'labels', fashion_mnist.target.astype(np.uint8))\n"
   ]
  },
  {
   "cell_type": "markdown",
   "metadata": {},
   "source": [
    "## Bond Price Indexes"
   ]
  },
  {
   "cell_type": "markdown",
   "metadata": {},
   "source": [
    "The following code downloads several bond indexes from the Federal Reserve Economic Data service ([FRED](https://fred.stlouisfed.org/))"
   ]
  },
  {
   "cell_type": "code",
   "execution_count": null,
   "metadata": {},
   "outputs": [],
   "source": [
    "securities = {'BAMLCC0A0CMTRIV'   : 'US Corp Master TRI',\n",
    "              'BAMLHYH0A0HYM2TRIV': 'US High Yield TRI',\n",
    "              'BAMLEMCBPITRIV'    : 'Emerging Markets Corporate Plus TRI',\n",
    "              'GOLDAMGBD228NLBM'  : 'Gold (London, USD)',\n",
    "              'DGS10'             : '10-Year Treasury CMR',\n",
    "              }\n",
    "\n",
    "df = web.DataReader(name=list(securities.keys()), data_source='fred', start=2000)\n",
    "df = df.rename(columns=securities).dropna(how='all').resample('B').mean()\n",
    "\n",
    "with pd.HDFStore(DATA_STORE) as store:\n",
    "    store.put('fred/assets', df)"
   ]
  },
  {
   "cell_type": "code",
   "execution_count": null,
   "metadata": {},
   "outputs": [],
   "source": []
  }
 ],
 "metadata": {
  "kernelspec": {
   "display_name": "Python 3",
   "language": "python",
   "name": "python3"
  },
  "language_info": {
   "codemirror_mode": {
    "name": "ipython",
    "version": 3
   },
   "file_extension": ".py",
   "mimetype": "text/x-python",
   "name": "python",
   "nbconvert_exporter": "python",
   "pygments_lexer": "ipython3",
   "version": "3.7.6"
  },
  "toc": {
   "base_numbering": 1,
   "nav_menu": {},
   "number_sections": true,
   "sideBar": true,
   "skip_h1_title": true,
   "title_cell": "Table of Contents",
   "title_sidebar": "Contents",
   "toc_cell": false,
   "toc_position": {},
   "toc_section_display": true,
   "toc_window_display": true
  }
 },
 "nbformat": 4,
 "nbformat_minor": 4
}
